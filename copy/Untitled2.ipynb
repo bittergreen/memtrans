{
 "cells": [
  {
   "cell_type": "code",
   "execution_count": 1,
   "id": "de233e37-76e3-463c-b491-7b708e81ffc4",
   "metadata": {},
   "outputs": [],
   "source": [
    "import numpy as np\n",
    "import torch\n",
    "from torch import nn, einsum\n",
    "import torch.nn.functional as F\n",
    "import math"
   ]
  },
  {
   "cell_type": "code",
   "execution_count": 2,
   "id": "72db791f-68fe-4140-b067-43a36a2495a2",
   "metadata": {},
   "outputs": [],
   "source": [
    "num_buckets = 6 # the total number of index buckets we'll use\n",
    "max_distance = 20 # maximum sequence length\n",
    "\n",
    "sequence_length = 14 # query length / input sequence length\n",
    "max_context_length = 14 # key length: can be equal to sequence_length or greater if recurrence/memory is concatenated"
   ]
  },
  {
   "cell_type": "code",
   "execution_count": 16,
   "id": "19ebb55f-3df0-4d62-a13d-c732c84bfe1d",
   "metadata": {},
   "outputs": [
    {
     "data": {
      "text/plain": [
       "tensor([[  0,   1,   2,   3,   4,   5,   6,   7,   8,   9,  10,  11,  12,  13],\n",
       "        [ -1,   0,   1,   2,   3,   4,   5,   6,   7,   8,   9,  10,  11,  12],\n",
       "        [ -2,  -1,   0,   1,   2,   3,   4,   5,   6,   7,   8,   9,  10,  11],\n",
       "        [ -3,  -2,  -1,   0,   1,   2,   3,   4,   5,   6,   7,   8,   9,  10],\n",
       "        [ -4,  -3,  -2,  -1,   0,   1,   2,   3,   4,   5,   6,   7,   8,   9],\n",
       "        [ -5,  -4,  -3,  -2,  -1,   0,   1,   2,   3,   4,   5,   6,   7,   8],\n",
       "        [ -6,  -5,  -4,  -3,  -2,  -1,   0,   1,   2,   3,   4,   5,   6,   7],\n",
       "        [ -7,  -6,  -5,  -4,  -3,  -2,  -1,   0,   1,   2,   3,   4,   5,   6],\n",
       "        [ -8,  -7,  -6,  -5,  -4,  -3,  -2,  -1,   0,   1,   2,   3,   4,   5],\n",
       "        [ -9,  -8,  -7,  -6,  -5,  -4,  -3,  -2,  -1,   0,   1,   2,   3,   4],\n",
       "        [-10,  -9,  -8,  -7,  -6,  -5,  -4,  -3,  -2,  -1,   0,   1,   2,   3],\n",
       "        [-11, -10,  -9,  -8,  -7,  -6,  -5,  -4,  -3,  -2,  -1,   0,   1,   2],\n",
       "        [-12, -11, -10,  -9,  -8,  -7,  -6,  -5,  -4,  -3,  -2,  -1,   0,   1],\n",
       "        [-13, -12, -11, -10,  -9,  -8,  -7,  -6,  -5,  -4,  -3,  -2,  -1,   0]])"
      ]
     },
     "execution_count": 16,
     "metadata": {},
     "output_type": "execute_result"
    }
   ],
   "source": [
    "q_pos = torch.arange(sequence_length, dtype=torch.long)\n",
    "q_pos = q_pos.reshape(q_pos.shape[0], 1)\n",
    "k_pos = torch.arange(max_context_length, dtype=torch.long)\n",
    "rel_pos = k_pos - q_pos\n",
    "rel_pos"
   ]
  },
  {
   "cell_type": "code",
   "execution_count": 17,
   "id": "15f85b86-b905-432b-afad-17d705e5b25a",
   "metadata": {},
   "outputs": [
    {
     "data": {
      "text/plain": [
       "tensor([[  0,  -1,  -2,  -3,  -4,  -5,  -6,  -7,  -8,  -9, -10, -11, -12, -13],\n",
       "        [  1,   0,  -1,  -2,  -3,  -4,  -5,  -6,  -7,  -8,  -9, -10, -11, -12],\n",
       "        [  2,   1,   0,  -1,  -2,  -3,  -4,  -5,  -6,  -7,  -8,  -9, -10, -11],\n",
       "        [  3,   2,   1,   0,  -1,  -2,  -3,  -4,  -5,  -6,  -7,  -8,  -9, -10],\n",
       "        [  4,   3,   2,   1,   0,  -1,  -2,  -3,  -4,  -5,  -6,  -7,  -8,  -9],\n",
       "        [  5,   4,   3,   2,   1,   0,  -1,  -2,  -3,  -4,  -5,  -6,  -7,  -8],\n",
       "        [  6,   5,   4,   3,   2,   1,   0,  -1,  -2,  -3,  -4,  -5,  -6,  -7],\n",
       "        [  7,   6,   5,   4,   3,   2,   1,   0,  -1,  -2,  -3,  -4,  -5,  -6],\n",
       "        [  8,   7,   6,   5,   4,   3,   2,   1,   0,  -1,  -2,  -3,  -4,  -5],\n",
       "        [  9,   8,   7,   6,   5,   4,   3,   2,   1,   0,  -1,  -2,  -3,  -4],\n",
       "        [ 10,   9,   8,   7,   6,   5,   4,   3,   2,   1,   0,  -1,  -2,  -3],\n",
       "        [ 11,  10,   9,   8,   7,   6,   5,   4,   3,   2,   1,   0,  -1,  -2],\n",
       "        [ 12,  11,  10,   9,   8,   7,   6,   5,   4,   3,   2,   1,   0,  -1],\n",
       "        [ 13,  12,  11,  10,   9,   8,   7,   6,   5,   4,   3,   2,   1,   0]])"
      ]
     },
     "execution_count": 17,
     "metadata": {},
     "output_type": "execute_result"
    }
   ],
   "source": [
    "n = -rel_pos\n",
    "n"
   ]
  },
  {
   "cell_type": "code",
   "execution_count": 18,
   "id": "b4b5432b-500f-4cf3-abd1-46b85f8c3af2",
   "metadata": {},
   "outputs": [
    {
     "data": {
      "text/plain": [
       "tensor([[ 0,  0,  0,  0,  0,  0,  0,  0,  0,  0,  0,  0,  0,  0],\n",
       "        [ 1,  0,  0,  0,  0,  0,  0,  0,  0,  0,  0,  0,  0,  0],\n",
       "        [ 2,  1,  0,  0,  0,  0,  0,  0,  0,  0,  0,  0,  0,  0],\n",
       "        [ 3,  2,  1,  0,  0,  0,  0,  0,  0,  0,  0,  0,  0,  0],\n",
       "        [ 4,  3,  2,  1,  0,  0,  0,  0,  0,  0,  0,  0,  0,  0],\n",
       "        [ 5,  4,  3,  2,  1,  0,  0,  0,  0,  0,  0,  0,  0,  0],\n",
       "        [ 6,  5,  4,  3,  2,  1,  0,  0,  0,  0,  0,  0,  0,  0],\n",
       "        [ 7,  6,  5,  4,  3,  2,  1,  0,  0,  0,  0,  0,  0,  0],\n",
       "        [ 8,  7,  6,  5,  4,  3,  2,  1,  0,  0,  0,  0,  0,  0],\n",
       "        [ 9,  8,  7,  6,  5,  4,  3,  2,  1,  0,  0,  0,  0,  0],\n",
       "        [10,  9,  8,  7,  6,  5,  4,  3,  2,  1,  0,  0,  0,  0],\n",
       "        [11, 10,  9,  8,  7,  6,  5,  4,  3,  2,  1,  0,  0,  0],\n",
       "        [12, 11, 10,  9,  8,  7,  6,  5,  4,  3,  2,  1,  0,  0],\n",
       "        [13, 12, 11, 10,  9,  8,  7,  6,  5,  4,  3,  2,  1,  0]])"
      ]
     },
     "execution_count": 18,
     "metadata": {},
     "output_type": "execute_result"
    }
   ],
   "source": [
    "n = torch.max(n, torch.zeros_like(n))\n",
    "n"
   ]
  },
  {
   "cell_type": "code",
   "execution_count": 19,
   "id": "5f3e263c-021e-4aad-930f-de4a7f843fd8",
   "metadata": {},
   "outputs": [],
   "source": [
    "max_exact = num_buckets // 2"
   ]
  },
  {
   "cell_type": "code",
   "execution_count": 22,
   "id": "0cb0ffff-e28c-426e-9c1e-2f2339097710",
   "metadata": {},
   "outputs": [
    {
     "data": {
      "text/plain": [
       "tensor([[ True,  True,  True,  True,  True,  True,  True,  True,  True,  True,\n",
       "          True,  True,  True,  True],\n",
       "        [ True,  True,  True,  True,  True,  True,  True,  True,  True,  True,\n",
       "          True,  True,  True,  True],\n",
       "        [ True,  True,  True,  True,  True,  True,  True,  True,  True,  True,\n",
       "          True,  True,  True,  True],\n",
       "        [False,  True,  True,  True,  True,  True,  True,  True,  True,  True,\n",
       "          True,  True,  True,  True],\n",
       "        [False, False,  True,  True,  True,  True,  True,  True,  True,  True,\n",
       "          True,  True,  True,  True],\n",
       "        [False, False, False,  True,  True,  True,  True,  True,  True,  True,\n",
       "          True,  True,  True,  True],\n",
       "        [False, False, False, False,  True,  True,  True,  True,  True,  True,\n",
       "          True,  True,  True,  True],\n",
       "        [False, False, False, False, False,  True,  True,  True,  True,  True,\n",
       "          True,  True,  True,  True],\n",
       "        [False, False, False, False, False, False,  True,  True,  True,  True,\n",
       "          True,  True,  True,  True],\n",
       "        [False, False, False, False, False, False, False,  True,  True,  True,\n",
       "          True,  True,  True,  True],\n",
       "        [False, False, False, False, False, False, False, False,  True,  True,\n",
       "          True,  True,  True,  True],\n",
       "        [False, False, False, False, False, False, False, False, False,  True,\n",
       "          True,  True,  True,  True],\n",
       "        [False, False, False, False, False, False, False, False, False, False,\n",
       "          True,  True,  True,  True],\n",
       "        [False, False, False, False, False, False, False, False, False, False,\n",
       "         False,  True,  True,  True]])"
      ]
     },
     "execution_count": 22,
     "metadata": {},
     "output_type": "execute_result"
    }
   ],
   "source": [
    "is_exact = n < max_exact\n",
    "is_exact"
   ]
  },
  {
   "cell_type": "code",
   "execution_count": 23,
   "id": "6dde9b95-5e90-4678-b87f-0dccab6af65b",
   "metadata": {},
   "outputs": [],
   "source": [
    "val_if_large = max_exact + \\\n",
    "  (\n",
    "    torch.log(n.float() / max_exact)  # log of matrix divided by scalar\n",
    "    / math.log(max_distance / max_exact) * (num_buckets - max_exact) # scalar\n",
    "    ).long() # convert float to int\n",
    "\n",
    "val_if_large = max_exact + (torch.log(n.float() / max_exact) / math.log(max_distance / max_exact) * (num_buckets - max_exact))"
   ]
  },
  {
   "cell_type": "code",
   "execution_count": 24,
   "id": "6b0d5dc0-ade1-47b2-8b61-71e4f81f33fa",
   "metadata": {},
   "outputs": [
    {
     "data": {
      "text/plain": [
       "tensor([[  -inf,   -inf,   -inf,   -inf,   -inf,   -inf,   -inf,   -inf,   -inf,\n",
       "           -inf,   -inf,   -inf,   -inf,   -inf],\n",
       "        [1.2627,   -inf,   -inf,   -inf,   -inf,   -inf,   -inf,   -inf,   -inf,\n",
       "           -inf,   -inf,   -inf,   -inf,   -inf],\n",
       "        [2.3588, 1.2627,   -inf,   -inf,   -inf,   -inf,   -inf,   -inf,   -inf,\n",
       "           -inf,   -inf,   -inf,   -inf,   -inf],\n",
       "        [3.0000, 2.3588, 1.2627,   -inf,   -inf,   -inf,   -inf,   -inf,   -inf,\n",
       "           -inf,   -inf,   -inf,   -inf,   -inf],\n",
       "        [3.4549, 3.0000, 2.3588, 1.2627,   -inf,   -inf,   -inf,   -inf,   -inf,\n",
       "           -inf,   -inf,   -inf,   -inf,   -inf],\n",
       "        [3.8078, 3.4549, 3.0000, 2.3588, 1.2627,   -inf,   -inf,   -inf,   -inf,\n",
       "           -inf,   -inf,   -inf,   -inf,   -inf],\n",
       "        [4.0961, 3.8078, 3.4549, 3.0000, 2.3588, 1.2627,   -inf,   -inf,   -inf,\n",
       "           -inf,   -inf,   -inf,   -inf,   -inf],\n",
       "        [4.3399, 4.0961, 3.8078, 3.4549, 3.0000, 2.3588, 1.2627,   -inf,   -inf,\n",
       "           -inf,   -inf,   -inf,   -inf,   -inf],\n",
       "        [4.5510, 4.3399, 4.0961, 3.8078, 3.4549, 3.0000, 2.3588, 1.2627,   -inf,\n",
       "           -inf,   -inf,   -inf,   -inf,   -inf],\n",
       "        [4.7373, 4.5510, 4.3399, 4.0961, 3.8078, 3.4549, 3.0000, 2.3588, 1.2627,\n",
       "           -inf,   -inf,   -inf,   -inf,   -inf],\n",
       "        [4.9039, 4.7373, 4.5510, 4.3399, 4.0961, 3.8078, 3.4549, 3.0000, 2.3588,\n",
       "         1.2627,   -inf,   -inf,   -inf,   -inf],\n",
       "        [5.0546, 4.9039, 4.7373, 4.5510, 4.3399, 4.0961, 3.8078, 3.4549, 3.0000,\n",
       "         2.3588, 1.2627,   -inf,   -inf,   -inf],\n",
       "        [5.1922, 5.0546, 4.9039, 4.7373, 4.5510, 4.3399, 4.0961, 3.8078, 3.4549,\n",
       "         3.0000, 2.3588, 1.2627,   -inf,   -inf],\n",
       "        [5.3188, 5.1922, 5.0546, 4.9039, 4.7373, 4.5510, 4.3399, 4.0961, 3.8078,\n",
       "         3.4549, 3.0000, 2.3588, 1.2627,   -inf]])"
      ]
     },
     "execution_count": 24,
     "metadata": {},
     "output_type": "execute_result"
    }
   ],
   "source": [
    "val_if_large"
   ]
  },
  {
   "cell_type": "code",
   "execution_count": 25,
   "id": "a8faeb15-1d66-4f2d-8a89-3e77f31a75d0",
   "metadata": {},
   "outputs": [
    {
     "data": {
      "text/plain": [
       "tensor([[-9223372036854775808, -9223372036854775808, -9223372036854775808,\n",
       "         -9223372036854775808, -9223372036854775808, -9223372036854775808,\n",
       "         -9223372036854775808, -9223372036854775808, -9223372036854775808,\n",
       "         -9223372036854775808, -9223372036854775808, -9223372036854775808,\n",
       "         -9223372036854775808, -9223372036854775808],\n",
       "        [                   1, -9223372036854775808, -9223372036854775808,\n",
       "         -9223372036854775808, -9223372036854775808, -9223372036854775808,\n",
       "         -9223372036854775808, -9223372036854775808, -9223372036854775808,\n",
       "         -9223372036854775808, -9223372036854775808, -9223372036854775808,\n",
       "         -9223372036854775808, -9223372036854775808],\n",
       "        [                   2,                    1, -9223372036854775808,\n",
       "         -9223372036854775808, -9223372036854775808, -9223372036854775808,\n",
       "         -9223372036854775808, -9223372036854775808, -9223372036854775808,\n",
       "         -9223372036854775808, -9223372036854775808, -9223372036854775808,\n",
       "         -9223372036854775808, -9223372036854775808],\n",
       "        [                   3,                    2,                    1,\n",
       "         -9223372036854775808, -9223372036854775808, -9223372036854775808,\n",
       "         -9223372036854775808, -9223372036854775808, -9223372036854775808,\n",
       "         -9223372036854775808, -9223372036854775808, -9223372036854775808,\n",
       "         -9223372036854775808, -9223372036854775808],\n",
       "        [                   3,                    3,                    2,\n",
       "                            1, -9223372036854775808, -9223372036854775808,\n",
       "         -9223372036854775808, -9223372036854775808, -9223372036854775808,\n",
       "         -9223372036854775808, -9223372036854775808, -9223372036854775808,\n",
       "         -9223372036854775808, -9223372036854775808],\n",
       "        [                   3,                    3,                    3,\n",
       "                            2,                    1, -9223372036854775808,\n",
       "         -9223372036854775808, -9223372036854775808, -9223372036854775808,\n",
       "         -9223372036854775808, -9223372036854775808, -9223372036854775808,\n",
       "         -9223372036854775808, -9223372036854775808],\n",
       "        [                   4,                    3,                    3,\n",
       "                            3,                    2,                    1,\n",
       "         -9223372036854775808, -9223372036854775808, -9223372036854775808,\n",
       "         -9223372036854775808, -9223372036854775808, -9223372036854775808,\n",
       "         -9223372036854775808, -9223372036854775808],\n",
       "        [                   4,                    4,                    3,\n",
       "                            3,                    3,                    2,\n",
       "                            1, -9223372036854775808, -9223372036854775808,\n",
       "         -9223372036854775808, -9223372036854775808, -9223372036854775808,\n",
       "         -9223372036854775808, -9223372036854775808],\n",
       "        [                   4,                    4,                    4,\n",
       "                            3,                    3,                    3,\n",
       "                            2,                    1, -9223372036854775808,\n",
       "         -9223372036854775808, -9223372036854775808, -9223372036854775808,\n",
       "         -9223372036854775808, -9223372036854775808],\n",
       "        [                   4,                    4,                    4,\n",
       "                            4,                    3,                    3,\n",
       "                            3,                    2,                    1,\n",
       "         -9223372036854775808, -9223372036854775808, -9223372036854775808,\n",
       "         -9223372036854775808, -9223372036854775808],\n",
       "        [                   4,                    4,                    4,\n",
       "                            4,                    4,                    3,\n",
       "                            3,                    3,                    2,\n",
       "                            1, -9223372036854775808, -9223372036854775808,\n",
       "         -9223372036854775808, -9223372036854775808],\n",
       "        [                   5,                    4,                    4,\n",
       "                            4,                    4,                    4,\n",
       "                            3,                    3,                    3,\n",
       "                            2,                    1, -9223372036854775808,\n",
       "         -9223372036854775808, -9223372036854775808],\n",
       "        [                   5,                    5,                    4,\n",
       "                            4,                    4,                    4,\n",
       "                            4,                    3,                    3,\n",
       "                            3,                    2,                    1,\n",
       "         -9223372036854775808, -9223372036854775808],\n",
       "        [                   5,                    5,                    5,\n",
       "                            4,                    4,                    4,\n",
       "                            4,                    4,                    3,\n",
       "                            3,                    3,                    2,\n",
       "                            1, -9223372036854775808]])"
      ]
     },
     "execution_count": 25,
     "metadata": {},
     "output_type": "execute_result"
    }
   ],
   "source": [
    "val_if_large = val_if_large.long()\n",
    "val_if_large"
   ]
  },
  {
   "cell_type": "code",
   "execution_count": 26,
   "id": "b2629959-19af-4f6b-8414-a432ee30c2fd",
   "metadata": {},
   "outputs": [],
   "source": [
    "position_bucket_indices = torch.where(is_exact, n, val_if_large)"
   ]
  },
  {
   "cell_type": "code",
   "execution_count": 27,
   "id": "f9005542-6c86-4cb9-9c82-8c8088fd8c75",
   "metadata": {},
   "outputs": [
    {
     "data": {
      "text/plain": [
       "tensor([[0, 0, 0, 0, 0, 0, 0, 0, 0, 0, 0, 0, 0, 0],\n",
       "        [1, 0, 0, 0, 0, 0, 0, 0, 0, 0, 0, 0, 0, 0],\n",
       "        [2, 1, 0, 0, 0, 0, 0, 0, 0, 0, 0, 0, 0, 0],\n",
       "        [3, 2, 1, 0, 0, 0, 0, 0, 0, 0, 0, 0, 0, 0],\n",
       "        [3, 3, 2, 1, 0, 0, 0, 0, 0, 0, 0, 0, 0, 0],\n",
       "        [3, 3, 3, 2, 1, 0, 0, 0, 0, 0, 0, 0, 0, 0],\n",
       "        [4, 3, 3, 3, 2, 1, 0, 0, 0, 0, 0, 0, 0, 0],\n",
       "        [4, 4, 3, 3, 3, 2, 1, 0, 0, 0, 0, 0, 0, 0],\n",
       "        [4, 4, 4, 3, 3, 3, 2, 1, 0, 0, 0, 0, 0, 0],\n",
       "        [4, 4, 4, 4, 3, 3, 3, 2, 1, 0, 0, 0, 0, 0],\n",
       "        [4, 4, 4, 4, 4, 3, 3, 3, 2, 1, 0, 0, 0, 0],\n",
       "        [5, 4, 4, 4, 4, 4, 3, 3, 3, 2, 1, 0, 0, 0],\n",
       "        [5, 5, 4, 4, 4, 4, 4, 3, 3, 3, 2, 1, 0, 0],\n",
       "        [5, 5, 5, 4, 4, 4, 4, 4, 3, 3, 3, 2, 1, 0]])"
      ]
     },
     "execution_count": 27,
     "metadata": {},
     "output_type": "execute_result"
    }
   ],
   "source": [
    "position_bucket_indices"
   ]
  },
  {
   "cell_type": "code",
   "execution_count": 31,
   "id": "9deedfb1-bf5b-4b63-80bf-ae7c0579ea4b",
   "metadata": {},
   "outputs": [],
   "source": [
    "n_heads = 4\n",
    "pos_embedding_bias = nn.Embedding(num_buckets, n_heads)"
   ]
  },
  {
   "cell_type": "code",
   "execution_count": 32,
   "id": "8148d0c6-f30c-4ff0-9bf8-ff7852fd3240",
   "metadata": {},
   "outputs": [
    {
     "data": {
      "text/plain": [
       "Parameter containing:\n",
       "tensor([[-0.1905, -0.6951,  1.1648, -0.9169],\n",
       "        [ 0.0761, -0.3987,  0.1826,  0.1903],\n",
       "        [-0.2134,  0.7328, -1.4838,  1.1680],\n",
       "        [ 0.3152, -1.4295, -2.7264, -0.6454],\n",
       "        [-0.6498, -1.5748, -0.9342,  0.2301],\n",
       "        [-0.1159,  0.9647,  0.7951, -0.5426]], requires_grad=True)"
      ]
     },
     "execution_count": 32,
     "metadata": {},
     "output_type": "execute_result"
    }
   ],
   "source": [
    "pos_embedding_bias.weight"
   ]
  },
  {
   "cell_type": "code",
   "execution_count": 35,
   "id": "8125e1a1-f5e4-4182-a0fc-c018efe7a9c3",
   "metadata": {},
   "outputs": [],
   "source": [
    "pos_embedding_values = pos_embedding_bias(position_bucket_indices)"
   ]
  },
  {
   "cell_type": "code",
   "execution_count": 36,
   "id": "0ec8e25d-e82b-4461-86e3-48327f2c45e7",
   "metadata": {},
   "outputs": [
    {
     "data": {
      "text/plain": [
       "torch.Size([14, 14, 4])"
      ]
     },
     "execution_count": 36,
     "metadata": {},
     "output_type": "execute_result"
    }
   ],
   "source": [
    "pos_embedding_values.shape"
   ]
  },
  {
   "cell_type": "code",
   "execution_count": null,
   "id": "62a9ca04-5362-4ed7-89bc-6ad076d68619",
   "metadata": {},
   "outputs": [],
   "source": []
  }
 ],
 "metadata": {
  "kernelspec": {
   "display_name": "Python 3 (ipykernel)",
   "language": "python",
   "name": "python3"
  },
  "language_info": {
   "codemirror_mode": {
    "name": "ipython",
    "version": 3
   },
   "file_extension": ".py",
   "mimetype": "text/x-python",
   "name": "python",
   "nbconvert_exporter": "python",
   "pygments_lexer": "ipython3",
   "version": "3.10.14"
  }
 },
 "nbformat": 4,
 "nbformat_minor": 5
}

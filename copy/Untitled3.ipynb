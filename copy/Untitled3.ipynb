{
 "cells": [
  {
   "cell_type": "code",
   "execution_count": 3,
   "id": "500dfd71-5ac7-480b-ac34-19bac6a50b71",
   "metadata": {},
   "outputs": [],
   "source": [
    "import faiss\n",
    "import numpy as np\n",
    "import torch\n",
    "import torch.nn as nn\n",
    "import torch.nn.functional as F"
   ]
  },
  {
   "cell_type": "code",
   "execution_count": 4,
   "id": "d4a02355-be6e-4223-91ca-0f5a703079a2",
   "metadata": {},
   "outputs": [],
   "source": [
    "dim = 64\n",
    "index = faiss.IndexFlatL2(dim)"
   ]
  },
  {
   "cell_type": "code",
   "execution_count": 5,
   "id": "7ad92b7f-7be7-4030-a614-87db0c5219b4",
   "metadata": {},
   "outputs": [
    {
     "data": {
      "text/plain": [
       "<faiss.swigfaiss.IndexFlatL2; proxy of <Swig Object of type 'faiss::IndexFlatL2 *' at 0x130035410> >"
      ]
     },
     "execution_count": 5,
     "metadata": {},
     "output_type": "execute_result"
    }
   ],
   "source": [
    "index"
   ]
  },
  {
   "cell_type": "code",
   "execution_count": 6,
   "id": "cb4f29fe-faba-48c5-8f64-d67ba5cd65b1",
   "metadata": {},
   "outputs": [],
   "source": [
    "vector_data = torch.randn((10000, dim), dtype=torch.float32)"
   ]
  },
  {
   "cell_type": "code",
   "execution_count": 7,
   "id": "3f84c07e-653e-4b47-9f09-70a7db86ec5e",
   "metadata": {},
   "outputs": [],
   "source": [
    "index.add(vector_data)"
   ]
  },
  {
   "cell_type": "code",
   "execution_count": 22,
   "id": "37b15d1f-0ebb-4952-aa21-cd30dd7eb155",
   "metadata": {},
   "outputs": [
    {
     "data": {
      "text/plain": [
       "10000"
      ]
     },
     "execution_count": 22,
     "metadata": {},
     "output_type": "execute_result"
    }
   ],
   "source": [
    "index.ntotal"
   ]
  },
  {
   "cell_type": "code",
   "execution_count": 23,
   "id": "a565ae85-4f46-439c-8d45-f3126063f046",
   "metadata": {},
   "outputs": [
    {
     "data": {
      "text/plain": [
       "10"
      ]
     },
     "execution_count": 23,
     "metadata": {},
     "output_type": "execute_result"
    }
   ],
   "source": [
    "index.remove_ids(np.arange(10))"
   ]
  },
  {
   "cell_type": "code",
   "execution_count": 24,
   "id": "a5833744-b6ae-4614-9ad1-4a51ee4170a0",
   "metadata": {},
   "outputs": [
    {
     "data": {
      "text/plain": [
       "9990"
      ]
     },
     "execution_count": 24,
     "metadata": {},
     "output_type": "execute_result"
    }
   ],
   "source": [
    "index.ntotal"
   ]
  },
  {
   "cell_type": "code",
   "execution_count": 25,
   "id": "aa2b7490-f503-4392-b064-10ef856bfef7",
   "metadata": {},
   "outputs": [],
   "source": [
    "query_data = torch.randn((10, dim), dtype=torch.float64)"
   ]
  },
  {
   "cell_type": "code",
   "execution_count": 27,
   "id": "0008ac79-4338-4c78-b126-3f27c56da6bd",
   "metadata": {},
   "outputs": [],
   "source": [
    "topk = 2\n",
    "distance, ids = index.search(query_data, topk)"
   ]
  },
  {
   "cell_type": "code",
   "execution_count": 28,
   "id": "8aaf1978-d182-46d8-b669-e4b9aca2a43d",
   "metadata": {},
   "outputs": [
    {
     "data": {
      "text/plain": [
       "array([[93.641426, 94.49693 ],\n",
       "       [68.84827 , 69.310295],\n",
       "       [70.8887  , 71.146706],\n",
       "       [70.90154 , 74.26372 ],\n",
       "       [65.32275 , 69.598114],\n",
       "       [55.525856, 61.573452],\n",
       "       [66.89134 , 71.34758 ],\n",
       "       [58.615837, 64.854164],\n",
       "       [61.58206 , 63.413498],\n",
       "       [63.78425 , 68.54495 ]], dtype=float32)"
      ]
     },
     "execution_count": 28,
     "metadata": {},
     "output_type": "execute_result"
    }
   ],
   "source": [
    "distance"
   ]
  },
  {
   "cell_type": "code",
   "execution_count": 29,
   "id": "f300f9b4-8157-4e1c-8752-4d989c209094",
   "metadata": {},
   "outputs": [
    {
     "data": {
      "text/plain": [
       "array([[8411, 6728],\n",
       "       [7724, 5542],\n",
       "       [7227, 9551],\n",
       "       [8064,  213],\n",
       "       [7146, 8178],\n",
       "       [6320, 1132],\n",
       "       [ 974, 5225],\n",
       "       [ 615, 1005],\n",
       "       [5187,  330],\n",
       "       [5415, 5944]])"
      ]
     },
     "execution_count": 29,
     "metadata": {},
     "output_type": "execute_result"
    }
   ],
   "source": [
    "ids"
   ]
  },
  {
   "cell_type": "code",
   "execution_count": 30,
   "id": "aff35d31-ec60-4c28-8cf1-bd9e8c076c59",
   "metadata": {},
   "outputs": [],
   "source": [
    "distance, ids, original = index.search_and_reconstruct(query_data, topk)"
   ]
  },
  {
   "cell_type": "code",
   "execution_count": 32,
   "id": "cffca282-2933-4ca9-b8a3-dca9bedc3ca5",
   "metadata": {},
   "outputs": [
    {
     "data": {
      "text/plain": [
       "(10, 2, 64)"
      ]
     },
     "execution_count": 32,
     "metadata": {},
     "output_type": "execute_result"
    }
   ],
   "source": [
    "original.shape"
   ]
  },
  {
   "cell_type": "code",
   "execution_count": 33,
   "id": "314fd054-4b63-4b35-a818-abb9f8fcd753",
   "metadata": {},
   "outputs": [],
   "source": [
    "# memmap for retrieving values from keys\n",
    "db_filepath = \"./memory.memmap\"\n",
    "max_memories = 10000\n",
    "shape = (max_memories, topk, dim)\n",
    "db = np.memmap(db_filepath, mode='w+', dtype=np.float32, shape=shape)"
   ]
  },
  {
   "cell_type": "code",
   "execution_count": 36,
   "id": "72e88264-54ae-43c0-a48f-4fd1ab164eb3",
   "metadata": {},
   "outputs": [],
   "source": [
    "db[1:2] = np.random.rand(1, 2, dim)"
   ]
  },
  {
   "cell_type": "code",
   "execution_count": 37,
   "id": "ab2ab263-f923-4b80-b969-2af09bd98141",
   "metadata": {},
   "outputs": [
    {
     "data": {
      "text/plain": [
       "memmap([[[0.        , 0.        , 0.        , ..., 0.        ,\n",
       "          0.        , 0.        ],\n",
       "         [0.        , 0.        , 0.        , ..., 0.        ,\n",
       "          0.        , 0.        ]],\n",
       "\n",
       "        [[0.4050407 , 0.35399655, 0.3129091 , ..., 0.5684382 ,\n",
       "          0.1647372 , 0.05455185],\n",
       "         [0.76077986, 0.3255453 , 0.92109597, ..., 0.52519727,\n",
       "          0.8003544 , 0.69297594]],\n",
       "\n",
       "        [[0.        , 0.        , 0.        , ..., 0.        ,\n",
       "          0.        , 0.        ],\n",
       "         [0.        , 0.        , 0.        , ..., 0.        ,\n",
       "          0.        , 0.        ]],\n",
       "\n",
       "        ...,\n",
       "\n",
       "        [[0.        , 0.        , 0.        , ..., 0.        ,\n",
       "          0.        , 0.        ],\n",
       "         [0.        , 0.        , 0.        , ..., 0.        ,\n",
       "          0.        , 0.        ]],\n",
       "\n",
       "        [[0.        , 0.        , 0.        , ..., 0.        ,\n",
       "          0.        , 0.        ],\n",
       "         [0.        , 0.        , 0.        , ..., 0.        ,\n",
       "          0.        , 0.        ]],\n",
       "\n",
       "        [[0.        , 0.        , 0.        , ..., 0.        ,\n",
       "          0.        , 0.        ],\n",
       "         [0.        , 0.        , 0.        , ..., 0.        ,\n",
       "          0.        , 0.        ]]], dtype=float32)"
      ]
     },
     "execution_count": 37,
     "metadata": {},
     "output_type": "execute_result"
    }
   ],
   "source": [
    "db"
   ]
  },
  {
   "cell_type": "code",
   "execution_count": 2,
   "id": "1615775e-8a8c-4d9a-aa2c-0658768b1a45",
   "metadata": {},
   "outputs": [],
   "source": [
    "n_embed = 32\n",
    "key_db = faiss.IndexFlatL2(n_embed)"
   ]
  },
  {
   "cell_type": "code",
   "execution_count": 3,
   "id": "73538524-5fd3-4520-b687-d524ea272ec7",
   "metadata": {},
   "outputs": [],
   "source": [
    "mem_size = 100000\n",
    "value_db = np.memmap(\"./shit.memmap\", mode='w+', dtype=np.float32, shape=(mem_size, n_embed))"
   ]
  },
  {
   "cell_type": "code",
   "execution_count": 2,
   "id": "53636060-9523-493b-8338-6b91dc3a19cc",
   "metadata": {},
   "outputs": [
    {
     "ename": "NameError",
     "evalue": "name 'n_embed' is not defined",
     "output_type": "error",
     "traceback": [
      "\u001b[0;31m---------------------------------------------------------------------------\u001b[0m",
      "\u001b[0;31mNameError\u001b[0m                                 Traceback (most recent call last)",
      "Cell \u001b[0;32mIn[2], line 3\u001b[0m\n\u001b[1;32m      1\u001b[0m b \u001b[38;5;241m=\u001b[39m \u001b[38;5;241m16\u001b[39m\n\u001b[1;32m      2\u001b[0m t \u001b[38;5;241m=\u001b[39m \u001b[38;5;241m100\u001b[39m\n\u001b[0;32m----> 3\u001b[0m c \u001b[38;5;241m=\u001b[39m \u001b[43mn_embed\u001b[49m\n\u001b[1;32m      4\u001b[0m key \u001b[38;5;241m=\u001b[39m torch\u001b[38;5;241m.\u001b[39mrandn((b, t, c), dtype\u001b[38;5;241m=\u001b[39mtorch\u001b[38;5;241m.\u001b[39mfloat32)\n\u001b[1;32m      5\u001b[0m value \u001b[38;5;241m=\u001b[39m torch\u001b[38;5;241m.\u001b[39mrandn((b, t, c), dtype\u001b[38;5;241m=\u001b[39mtorch\u001b[38;5;241m.\u001b[39mfloat32)\n",
      "\u001b[0;31mNameError\u001b[0m: name 'n_embed' is not defined"
     ]
    }
   ],
   "source": [
    "b = 16\n",
    "t = 100\n",
    "c = n_embed\n",
    "key = torch.randn((b, t, c), dtype=torch.float32)\n",
    "value = torch.randn((b, t, c), dtype=torch.float32)\n",
    "total_offset = 0"
   ]
  },
  {
   "cell_type": "code",
   "execution_count": 5,
   "id": "18b8ca6e-fc87-4e13-ac46-2d879e43b415",
   "metadata": {},
   "outputs": [
    {
     "data": {
      "text/plain": [
       "1600"
      ]
     },
     "execution_count": 5,
     "metadata": {},
     "output_type": "execute_result"
    }
   ],
   "source": [
    "offset = key.shape[0] * key.shape[1]\n",
    "offset"
   ]
  },
  {
   "cell_type": "code",
   "execution_count": 6,
   "id": "eba4a40f-f12e-4f4e-8ad1-82d312aae8a0",
   "metadata": {},
   "outputs": [
    {
     "data": {
      "text/plain": [
       "tensor([   0,    1,    2,  ..., 1597, 1598, 1599])"
      ]
     },
     "execution_count": 6,
     "metadata": {},
     "output_type": "execute_result"
    }
   ],
   "source": [
    "ids = torch.arange(total_offset, total_offset + offset)\n",
    "ids"
   ]
  },
  {
   "cell_type": "code",
   "execution_count": 7,
   "id": "772a7af3-7b9e-4109-a9ea-52b856749fe7",
   "metadata": {},
   "outputs": [],
   "source": [
    "key_db.add(key.flatten(0, 1))"
   ]
  },
  {
   "cell_type": "code",
   "execution_count": 8,
   "id": "3c193a03-040b-4bae-8778-1ac87e158846",
   "metadata": {},
   "outputs": [
    {
     "data": {
      "text/plain": [
       "1600"
      ]
     },
     "execution_count": 8,
     "metadata": {},
     "output_type": "execute_result"
    }
   ],
   "source": [
    "key_db.ntotal"
   ]
  },
  {
   "cell_type": "code",
   "execution_count": 9,
   "id": "4be845e5-489c-499e-b04d-f851ea4ebe08",
   "metadata": {},
   "outputs": [],
   "source": [
    "value_db[ids] = value.flatten(0, 1)"
   ]
  },
  {
   "cell_type": "code",
   "execution_count": 10,
   "id": "dbd8238d-fd85-405d-99d1-7ced8aba05c7",
   "metadata": {},
   "outputs": [
    {
     "data": {
      "text/plain": [
       "memmap([[ 0.7134852 , -0.98897314,  1.1582507 , ..., -0.65572065,\n",
       "         -0.38709787, -0.8826125 ],\n",
       "        [-0.6550964 ,  1.6092925 ,  0.80030733, ...,  0.8556267 ,\n",
       "          1.2299192 ,  0.04382041],\n",
       "        [-1.2351928 ,  1.5633427 , -0.836643  , ...,  2.033948  ,\n",
       "         -1.4471961 , -0.24193352],\n",
       "        ...,\n",
       "        [ 0.        ,  0.        ,  0.        , ...,  0.        ,\n",
       "          0.        ,  0.        ],\n",
       "        [ 0.        ,  0.        ,  0.        , ...,  0.        ,\n",
       "          0.        ,  0.        ],\n",
       "        [ 0.        ,  0.        ,  0.        , ...,  0.        ,\n",
       "          0.        ,  0.        ]], dtype=float32)"
      ]
     },
     "execution_count": 10,
     "metadata": {},
     "output_type": "execute_result"
    }
   ],
   "source": [
    "value_db"
   ]
  },
  {
   "cell_type": "code",
   "execution_count": 11,
   "id": "5e8e55b4-3296-4852-a6af-df7c6ede1150",
   "metadata": {},
   "outputs": [],
   "source": [
    "value_db.flush()"
   ]
  },
  {
   "cell_type": "code",
   "execution_count": 12,
   "id": "c72f0989-6f87-41fa-b5d4-ff09df71d137",
   "metadata": {},
   "outputs": [],
   "source": [
    "total_offset += offset"
   ]
  },
  {
   "cell_type": "code",
   "execution_count": 13,
   "id": "36cafbd2-0627-4599-b429-14a74fb7a940",
   "metadata": {},
   "outputs": [
    {
     "data": {
      "text/plain": [
       "memmap([ 0.7134852 , -0.98897314,  1.1582507 , -0.7211242 , -0.9199839 ,\n",
       "        -0.8324986 , -0.42878613,  0.18412289,  1.3613797 ,  1.5028625 ,\n",
       "        -1.9431353 ,  0.10089584, -0.56640095, -0.43664274,  0.1166168 ,\n",
       "         1.8329364 ,  1.1545871 , -1.0967777 ,  0.30457202,  0.10313164,\n",
       "         0.41399816,  0.21535783, -0.08292428,  0.6627333 , -1.6125681 ,\n",
       "         0.1864786 ,  0.6997727 , -0.7951304 ,  0.25472143, -0.65572065,\n",
       "        -0.38709787, -0.8826125 ], dtype=float32)"
      ]
     },
     "execution_count": 13,
     "metadata": {},
     "output_type": "execute_result"
    }
   ],
   "source": [
    "value_db[0]"
   ]
  },
  {
   "cell_type": "code",
   "execution_count": 14,
   "id": "ab1045fc-557d-4c8d-9ffb-c752f2b2c694",
   "metadata": {},
   "outputs": [],
   "source": [
    "topk = 2\n",
    "search_key = torch.randn((b,t,c), dtype=torch.float32)"
   ]
  },
  {
   "cell_type": "code",
   "execution_count": 15,
   "id": "a7aff3c1-1dd4-46df-8023-cbab2a8f5832",
   "metadata": {},
   "outputs": [],
   "source": [
    "_, ids, original = key_db.search_and_reconstruct(search_key.flatten(0,1), topk)"
   ]
  },
  {
   "cell_type": "code",
   "execution_count": 16,
   "id": "12d81d47-8804-485d-a686-985450c8c75c",
   "metadata": {},
   "outputs": [
    {
     "data": {
      "text/plain": [
       "(1600, 2)"
      ]
     },
     "execution_count": 16,
     "metadata": {},
     "output_type": "execute_result"
    }
   ],
   "source": [
    "ids.shape"
   ]
  },
  {
   "cell_type": "code",
   "execution_count": 17,
   "id": "d0fb4342-3cb4-47b1-abf9-fb9d3eaf647d",
   "metadata": {},
   "outputs": [
    {
     "data": {
      "text/plain": [
       "(1600, 2, 32)"
      ]
     },
     "execution_count": 17,
     "metadata": {},
     "output_type": "execute_result"
    }
   ],
   "source": [
    "original.shape"
   ]
  },
  {
   "cell_type": "code",
   "execution_count": 18,
   "id": "81e8d845-0dab-4158-9d91-bb62185f7f6d",
   "metadata": {},
   "outputs": [
    {
     "data": {
      "text/plain": [
       "(1600, 2, 32)"
      ]
     },
     "execution_count": 18,
     "metadata": {},
     "output_type": "execute_result"
    }
   ],
   "source": [
    "res_values = value_db[ids]\n",
    "res_values.shape"
   ]
  },
  {
   "cell_type": "code",
   "execution_count": null,
   "id": "5839007f-beb9-496f-842d-58e809dc808c",
   "metadata": {},
   "outputs": [],
   "source": [
    "a = torch.tensor(original)"
   ]
  },
  {
   "cell_type": "code",
   "execution_count": null,
   "id": "36d3c0a8-996d-4022-93f1-3e776f80259c",
   "metadata": {},
   "outputs": [],
   "source": []
  },
  {
   "cell_type": "code",
   "execution_count": null,
   "id": "9358dd6e-5d04-4549-8c18-09063d2d0ac3",
   "metadata": {},
   "outputs": [],
   "source": []
  },
  {
   "cell_type": "code",
   "execution_count": 1,
   "id": "9116c1a8-88d5-4aed-895c-75ce7dc46c74",
   "metadata": {},
   "outputs": [],
   "source": [
    "import faiss\n",
    "import numpy as np\n",
    "import torch\n",
    "import torch.nn as nn\n",
    "import torch.nn.functional as F\n",
    "\n",
    "\n",
    "class Memory:\n",
    "\n",
    "    def __init__(self, mem_size, n_embed, head_id) -> None:\n",
    "        \"\"\"\n",
    "        There are 2 components of this transformer memory:\n",
    "        - A vector db storing the keys of the data, supports similarity search\n",
    "        - A memmap storing the values\n",
    "\n",
    "        For each head, we will have a separate memory.\n",
    "        \"\"\"\n",
    "        self.key_db = faiss.IndexFlatL2(n_embed)\n",
    "        value_db_filepath = f\"./memory_head_{head_id}.memmap\"\n",
    "        # Todo: How to decide the mem_size?\n",
    "        self.value_db = np.memmap(value_db_filepath, mode='w+', dtype=np.float32, shape=(mem_size, n_embed))\n",
    "        self.total_offset = 0\n",
    "\n",
    "    def store(self, key, value):\n",
    "        \"\"\"\n",
    "        key: (batch, sequence_length, embed_dim)  (B, T, C)\n",
    "        value: (batch, sequence_length, embed_dim)  (B, T, C)\n",
    "        \"\"\"\n",
    "        offset = key.shape[0] * key.shape[1]\n",
    "        ids = torch.arange(self.total_offset, self.total_offset + offset)\n",
    "        \n",
    "        # Add the key to FAISS. Flatten the key to (batch * sequence_length, embed_dim)\n",
    "        self.key_db.add(key.flatten(0, 1))\n",
    "\n",
    "        # Add the value to the memmap\n",
    "        self.value_db[ids] = value.flatten(0, 1)\n",
    "        self.value_db.flush()\n",
    "        self.total_offset += offset\n",
    "        return ids\n",
    "\n",
    "    def retrieve(self, query, topk=2):\n",
    "        \"\"\"\n",
    "        query: (batch, sequence, embed_dim)  (B, T, C)\n",
    "        \"\"\"\n",
    "        # matched_keys & matched_values: (batch * sequence_length, topk, embed_dim)\n",
    "        _, ids, matched_keys = self.key_db.search_and_reconstruct(query.flatten(0, 1), topk)\n",
    "        matched_values = self.value_db[ids]  # ndarray\n",
    "\n",
    "        matched_keys = torch.from_numpy(matched_keys).unflatten(0, (query.shape[0], query.shape[1]))\n",
    "        matched_values = torch.from_numpy(matched_values).unflatten(0, (query.shape[0], query.shape[1]))\n",
    "        # returning (B, T, topk, C)  Todo: is this appropriate?\n",
    "        return matched_keys, matched_values\n",
    "\n",
    "    def clear(self):\n",
    "        self.key_db.reset()\n",
    "        self.value_db.flush()\n",
    "        self.total_offset = 0\n"
   ]
  },
  {
   "cell_type": "code",
   "execution_count": 2,
   "id": "e0d72567-d03b-4a19-8238-1b766e51598e",
   "metadata": {},
   "outputs": [],
   "source": [
    "mem_size = 10000\n",
    "n_embed = 32\n",
    "head_id = 1\n",
    "mem = Memory(mem_size, n_embed, head_id)"
   ]
  },
  {
   "cell_type": "code",
   "execution_count": 9,
   "id": "dcd7e0e6-2706-42d1-9234-aa56081817f7",
   "metadata": {},
   "outputs": [],
   "source": [
    "b = 16\n",
    "t = 100\n",
    "c = n_embed\n",
    "key = torch.randn((b, t, c), dtype=torch.float32)\n",
    "value = torch.randn((b, t, c), dtype=torch.float32)\n",
    "query = torch.randn((b,t,c), dtype=torch.float32)"
   ]
  },
  {
   "cell_type": "code",
   "execution_count": 10,
   "id": "8e0208bb-fd79-469d-9bbd-28657c429a10",
   "metadata": {},
   "outputs": [],
   "source": [
    "ids = mem.store(key, value)"
   ]
  },
  {
   "cell_type": "code",
   "execution_count": 11,
   "id": "d28bad19-3cf3-4770-b6af-2294afa43aae",
   "metadata": {},
   "outputs": [
    {
     "data": {
      "text/plain": [
       "tensor([1600, 1601, 1602,  ..., 3197, 3198, 3199])"
      ]
     },
     "execution_count": 11,
     "metadata": {},
     "output_type": "execute_result"
    }
   ],
   "source": [
    "ids"
   ]
  },
  {
   "cell_type": "code",
   "execution_count": 12,
   "id": "86c5bb04-390b-4cb3-93a4-911c78078a29",
   "metadata": {},
   "outputs": [
    {
     "data": {
      "text/plain": [
       "3200"
      ]
     },
     "execution_count": 12,
     "metadata": {},
     "output_type": "execute_result"
    }
   ],
   "source": [
    "mem.key_db.ntotal"
   ]
  },
  {
   "cell_type": "code",
   "execution_count": 13,
   "id": "407d5e71-c80e-4e6c-929e-e4d671dc5b96",
   "metadata": {},
   "outputs": [
    {
     "data": {
      "text/plain": [
       "memmap([[ 0.3710723 , -0.00485805,  0.89239454, ...,  0.32404032,\n",
       "          0.54582256,  0.26578963],\n",
       "        [ 0.6924881 , -1.073629  ,  0.74572736, ..., -0.7672913 ,\n",
       "         -0.086476  , -0.4977963 ],\n",
       "        [-2.5152192 ,  0.5555816 ,  1.4097614 , ..., -1.2520555 ,\n",
       "          0.7043623 , -0.5531658 ],\n",
       "        ...,\n",
       "        [ 0.        ,  0.        ,  0.        , ...,  0.        ,\n",
       "          0.        ,  0.        ],\n",
       "        [ 0.        ,  0.        ,  0.        , ...,  0.        ,\n",
       "          0.        ,  0.        ],\n",
       "        [ 0.        ,  0.        ,  0.        , ...,  0.        ,\n",
       "          0.        ,  0.        ]], dtype=float32)"
      ]
     },
     "execution_count": 13,
     "metadata": {},
     "output_type": "execute_result"
    }
   ],
   "source": [
    "mem.value_db"
   ]
  },
  {
   "cell_type": "code",
   "execution_count": 15,
   "id": "789db6ce-10dd-4ec2-9201-61ae72bc2881",
   "metadata": {},
   "outputs": [],
   "source": [
    "memk, memv = mem.retrieve(query)"
   ]
  },
  {
   "cell_type": "code",
   "execution_count": 16,
   "id": "fcbf9185-4b43-4d53-b247-c9b7c9d3fae2",
   "metadata": {},
   "outputs": [
    {
     "data": {
      "text/plain": [
       "torch.Size([16, 100, 2, 32])"
      ]
     },
     "execution_count": 16,
     "metadata": {},
     "output_type": "execute_result"
    }
   ],
   "source": [
    "memk.shape"
   ]
  },
  {
   "cell_type": "code",
   "execution_count": 17,
   "id": "e456c391-c483-4c7d-a9fa-66d56377ea13",
   "metadata": {},
   "outputs": [
    {
     "data": {
      "text/plain": [
       "torch.Size([16, 100, 2, 32])"
      ]
     },
     "execution_count": 17,
     "metadata": {},
     "output_type": "execute_result"
    }
   ],
   "source": [
    "memv.shape"
   ]
  },
  {
   "cell_type": "code",
   "execution_count": 18,
   "id": "fe4623f2-8f42-4ddd-8806-b432bd004d86",
   "metadata": {},
   "outputs": [],
   "source": [
    "mem.clear()"
   ]
  },
  {
   "cell_type": "code",
   "execution_count": 19,
   "id": "9728f272-d77d-408d-9e42-6631c81e7405",
   "metadata": {},
   "outputs": [
    {
     "data": {
      "text/plain": [
       "0"
      ]
     },
     "execution_count": 19,
     "metadata": {},
     "output_type": "execute_result"
    }
   ],
   "source": [
    "mem.key_db.ntotal"
   ]
  },
  {
   "cell_type": "code",
   "execution_count": 20,
   "id": "9f8c2844-b36c-4e85-9411-dfeb629d1735",
   "metadata": {},
   "outputs": [
    {
     "data": {
      "text/plain": [
       "memmap([[ 0.3710723 , -0.00485805,  0.89239454, ...,  0.32404032,\n",
       "          0.54582256,  0.26578963],\n",
       "        [ 0.6924881 , -1.073629  ,  0.74572736, ..., -0.7672913 ,\n",
       "         -0.086476  , -0.4977963 ],\n",
       "        [-2.5152192 ,  0.5555816 ,  1.4097614 , ..., -1.2520555 ,\n",
       "          0.7043623 , -0.5531658 ],\n",
       "        ...,\n",
       "        [ 0.        ,  0.        ,  0.        , ...,  0.        ,\n",
       "          0.        ,  0.        ],\n",
       "        [ 0.        ,  0.        ,  0.        , ...,  0.        ,\n",
       "          0.        ,  0.        ],\n",
       "        [ 0.        ,  0.        ,  0.        , ...,  0.        ,\n",
       "          0.        ,  0.        ]], dtype=float32)"
      ]
     },
     "execution_count": 20,
     "metadata": {},
     "output_type": "execute_result"
    }
   ],
   "source": [
    "mem.value_db"
   ]
  },
  {
   "cell_type": "code",
   "execution_count": 54,
   "id": "ee8b8b1f-b20d-4cd6-b2ef-0be0eab0dd46",
   "metadata": {},
   "outputs": [],
   "source": [
    "b, t, c, topk = 2, 3, 4, 5\n",
    "q = torch.randn(b, t, c)\n",
    "k = torch.randn(b, t, c, topk)\n",
    "v = torch.randn(b, t, c, topk)"
   ]
  },
  {
   "cell_type": "code",
   "execution_count": 55,
   "id": "7e90ce6f-c783-475d-9f6f-9aa63acd44af",
   "metadata": {},
   "outputs": [
    {
     "data": {
      "text/plain": [
       "torch.Size([2, 3, 4])"
      ]
     },
     "execution_count": 55,
     "metadata": {},
     "output_type": "execute_result"
    }
   ],
   "source": [
    "q.shape"
   ]
  },
  {
   "cell_type": "code",
   "execution_count": 56,
   "id": "05c8e035-3861-4b8c-af3e-b457da339b6a",
   "metadata": {},
   "outputs": [
    {
     "data": {
      "text/plain": [
       "torch.Size([2, 3, 4, 5])"
      ]
     },
     "execution_count": 56,
     "metadata": {},
     "output_type": "execute_result"
    }
   ],
   "source": [
    "k.shape"
   ]
  },
  {
   "cell_type": "code",
   "execution_count": 62,
   "id": "a41a1dc9-b071-414b-b4c0-d09659607b06",
   "metadata": {},
   "outputs": [],
   "source": [
    "wei = torch.einsum('btc,btck->btk', q, k)\n",
    "wei = F.softmax(wei, dim=-1)"
   ]
  },
  {
   "cell_type": "code",
   "execution_count": 63,
   "id": "3fb98f99-7ed9-44c6-8add-ddb6c5775766",
   "metadata": {},
   "outputs": [
    {
     "data": {
      "text/plain": [
       "torch.Size([2, 3, 5])"
      ]
     },
     "execution_count": 63,
     "metadata": {},
     "output_type": "execute_result"
    }
   ],
   "source": [
    "wei.shape"
   ]
  },
  {
   "cell_type": "code",
   "execution_count": 65,
   "id": "e8e0e7ee-1bfa-4d0c-8c2b-38ef1d0b5255",
   "metadata": {},
   "outputs": [],
   "source": [
    "out = torch.einsum('btk,btck->btc', wei, v)"
   ]
  },
  {
   "cell_type": "code",
   "execution_count": 66,
   "id": "610e5ac3-ca3f-4bea-9fda-7dd81b6b757e",
   "metadata": {},
   "outputs": [
    {
     "data": {
      "text/plain": [
       "torch.Size([2, 3, 4])"
      ]
     },
     "execution_count": 66,
     "metadata": {},
     "output_type": "execute_result"
    }
   ],
   "source": [
    "out.shape"
   ]
  },
  {
   "cell_type": "code",
   "execution_count": 67,
   "id": "54a9774f-1b57-4353-a75e-458bbb3f5ff7",
   "metadata": {},
   "outputs": [],
   "source": [
    "m = torch.randn(b, t, c)"
   ]
  },
  {
   "cell_type": "code",
   "execution_count": 82,
   "id": "5de5ba67-11e4-431a-8a63-c79ee827d193",
   "metadata": {},
   "outputs": [],
   "source": [
    "gate_bias = nn.Parameter(torch.zeros((1)))"
   ]
  },
  {
   "cell_type": "code",
   "execution_count": 83,
   "id": "9a589fbd-4f5a-4319-9202-20df29eff964",
   "metadata": {},
   "outputs": [],
   "source": [
    "gate = torch.sigmoid(gate_bias)"
   ]
  },
  {
   "cell_type": "code",
   "execution_count": 84,
   "id": "8d3b7859-4def-4961-b755-a663d38dc1b4",
   "metadata": {},
   "outputs": [
    {
     "data": {
      "text/plain": [
       "torch.Size([1])"
      ]
     },
     "execution_count": 84,
     "metadata": {},
     "output_type": "execute_result"
    }
   ],
   "source": [
    "gate.shape"
   ]
  },
  {
   "cell_type": "code",
   "execution_count": 85,
   "id": "056a9045-aea8-4990-9e88-1f37a032e9da",
   "metadata": {},
   "outputs": [],
   "source": [
    "shit = m * gate + out * (1 - gate)"
   ]
  },
  {
   "cell_type": "code",
   "execution_count": 86,
   "id": "eebf4168-ddfa-4280-8d54-52541e2c42e8",
   "metadata": {},
   "outputs": [
    {
     "data": {
      "text/plain": [
       "torch.Size([2, 3, 4])"
      ]
     },
     "execution_count": 86,
     "metadata": {},
     "output_type": "execute_result"
    }
   ],
   "source": [
    "shit.shape"
   ]
  },
  {
   "cell_type": "code",
   "execution_count": null,
   "id": "d6631b99-ebf9-4934-a7b2-4149c10a3439",
   "metadata": {},
   "outputs": [],
   "source": []
  },
  {
   "cell_type": "code",
   "execution_count": null,
   "id": "2b011c2c-3bd2-4bbd-bb77-a9d9a6266c0f",
   "metadata": {},
   "outputs": [],
   "source": []
  },
  {
   "cell_type": "code",
   "execution_count": null,
   "id": "f9099744-898c-48e6-98cb-6e1f2af9d952",
   "metadata": {},
   "outputs": [],
   "source": []
  },
  {
   "cell_type": "code",
   "execution_count": null,
   "id": "0e791be3-64fa-4ece-b223-6f3922eccf36",
   "metadata": {},
   "outputs": [],
   "source": []
  },
  {
   "cell_type": "code",
   "execution_count": 13,
   "id": "b3b4a6c4-c6a8-4ac3-b1dd-3665ed27bfdc",
   "metadata": {},
   "outputs": [],
   "source": [
    "# Transformer XL\n",
    "import faiss\n",
    "import numpy as np\n",
    "import torch\n",
    "import torch.nn as nn\n",
    "import torch.nn.functional as F\n",
    "\n",
    "b = 32\n",
    "t = 80\n",
    "c = 8"
   ]
  },
  {
   "cell_type": "code",
   "execution_count": 14,
   "id": "9bfb2a11-17ef-4fa7-940c-1305c8d3af7b",
   "metadata": {},
   "outputs": [],
   "source": [
    "xl_mem = torch.randn((b, t, 2, c), dtype=torch.float32)"
   ]
  },
  {
   "cell_type": "code",
   "execution_count": 15,
   "id": "82c26746-6290-4a49-b445-aba60f6f9f64",
   "metadata": {},
   "outputs": [
    {
     "data": {
      "text/plain": [
       "torch.Size([32, 80, 2, 8])"
      ]
     },
     "execution_count": 15,
     "metadata": {},
     "output_type": "execute_result"
    }
   ],
   "source": [
    "xl_mem.shape"
   ]
  },
  {
   "cell_type": "code",
   "execution_count": 16,
   "id": "cb661be9-eccf-49f5-8045-ae8ade1a1974",
   "metadata": {},
   "outputs": [],
   "source": [
    "xl_keys, xl_values = xl_mem.unbind(dim=-2)"
   ]
  },
  {
   "cell_type": "code",
   "execution_count": 17,
   "id": "9cf039cd-8896-4fec-89da-c0237f95e085",
   "metadata": {},
   "outputs": [
    {
     "data": {
      "text/plain": [
       "torch.Size([32, 80, 8])"
      ]
     },
     "execution_count": 17,
     "metadata": {},
     "output_type": "execute_result"
    }
   ],
   "source": [
    "xl_keys.shape"
   ]
  },
  {
   "cell_type": "code",
   "execution_count": 18,
   "id": "c9f97b38-f04e-4856-b869-481222686d37",
   "metadata": {},
   "outputs": [],
   "source": [
    "key = torch.randn((b, t, c), dtype=torch.float32)\n",
    "value = torch.randn((b, t, c), dtype=torch.float32)\n",
    "query = torch.randn((b,t,c), dtype=torch.float32)"
   ]
  },
  {
   "cell_type": "code",
   "execution_count": 19,
   "id": "20ba91f3-71a2-4a7e-9194-d95e167c4d7e",
   "metadata": {},
   "outputs": [
    {
     "data": {
      "text/plain": [
       "torch.Size([32, 80, 8])"
      ]
     },
     "execution_count": 19,
     "metadata": {},
     "output_type": "execute_result"
    }
   ],
   "source": [
    "query.shape"
   ]
  },
  {
   "cell_type": "code",
   "execution_count": 20,
   "id": "07461719-1a46-4b57-8873-87a5e64b48d8",
   "metadata": {},
   "outputs": [
    {
     "data": {
      "text/plain": [
       "torch.Size([32, 160, 8])"
      ]
     },
     "execution_count": 20,
     "metadata": {},
     "output_type": "execute_result"
    }
   ],
   "source": [
    "augmented_key = torch.cat((xl_keys, key), dim=1)\n",
    "augmented_key.shape"
   ]
  },
  {
   "cell_type": "code",
   "execution_count": 21,
   "id": "8f57a04d-212d-4a65-aea2-ee27c77bbdde",
   "metadata": {},
   "outputs": [
    {
     "data": {
      "text/plain": [
       "torch.Size([32, 160, 8])"
      ]
     },
     "execution_count": 21,
     "metadata": {},
     "output_type": "execute_result"
    }
   ],
   "source": [
    "augmented_value = torch.cat((xl_values, value), dim=1)\n",
    "augmented_value.shape"
   ]
  },
  {
   "cell_type": "code",
   "execution_count": 22,
   "id": "834ddf3a-0d1d-49c2-a582-6c9b5493633b",
   "metadata": {},
   "outputs": [
    {
     "data": {
      "text/plain": [
       "torch.Size([32, 80, 160])"
      ]
     },
     "execution_count": 22,
     "metadata": {},
     "output_type": "execute_result"
    }
   ],
   "source": [
    "qk = query @ augmented_key.transpose(-2, -1)\n",
    "qk.shape"
   ]
  },
  {
   "cell_type": "code",
   "execution_count": 23,
   "id": "8a8a48a2-1550-476a-bc53-f4e1dd82a5ed",
   "metadata": {},
   "outputs": [],
   "source": [
    "i, j = qk.shape[1:]\n",
    "i, j = 3, 3"
   ]
  },
  {
   "cell_type": "code",
   "execution_count": 2,
   "id": "0800b799-30a0-42e0-bc7e-573cdc9f6f32",
   "metadata": {},
   "outputs": [
    {
     "ename": "NameError",
     "evalue": "name 'torch' is not defined",
     "output_type": "error",
     "traceback": [
      "\u001b[0;31m---------------------------------------------------------------------------\u001b[0m",
      "\u001b[0;31mNameError\u001b[0m                                 Traceback (most recent call last)",
      "Cell \u001b[0;32mIn[2], line 1\u001b[0m\n\u001b[0;32m----> 1\u001b[0m tensor \u001b[38;5;241m=\u001b[39m \u001b[43mtorch\u001b[49m\u001b[38;5;241m.\u001b[39mones((i, j), dtype\u001b[38;5;241m=\u001b[39mtorch\u001b[38;5;241m.\u001b[39mbool)\u001b[38;5;241m.\u001b[39mtriu()\n",
      "\u001b[0;31mNameError\u001b[0m: name 'torch' is not defined"
     ]
    }
   ],
   "source": [
    "tensor = torch.ones((i, j), dtype=torch.bool).triu()"
   ]
  },
  {
   "cell_type": "code",
   "execution_count": 1,
   "id": "ce15f4a5-64b7-4962-a13c-24cfcf964e12",
   "metadata": {},
   "outputs": [
    {
     "ename": "NameError",
     "evalue": "name 'tensor' is not defined",
     "output_type": "error",
     "traceback": [
      "\u001b[0;31m---------------------------------------------------------------------------\u001b[0m",
      "\u001b[0;31mNameError\u001b[0m                                 Traceback (most recent call last)",
      "Cell \u001b[0;32mIn[1], line 1\u001b[0m\n\u001b[0;32m----> 1\u001b[0m shit \u001b[38;5;241m=\u001b[39m \u001b[43mtensor\u001b[49m\u001b[38;5;241m.\u001b[39mtriu()\n",
      "\u001b[0;31mNameError\u001b[0m: name 'tensor' is not defined"
     ]
    }
   ],
   "source": [
    "shit = tensor.triu()"
   ]
  },
  {
   "cell_type": "code",
   "execution_count": null,
   "id": "424a7168-7d3e-4287-984b-1c0617ea87a7",
   "metadata": {},
   "outputs": [],
   "source": []
  },
  {
   "cell_type": "code",
   "execution_count": null,
   "id": "48b02281-1683-41ff-be6c-94e2986e7292",
   "metadata": {},
   "outputs": [],
   "source": []
  }
 ],
 "metadata": {
  "kernelspec": {
   "display_name": "Python 3 (ipykernel)",
   "language": "python",
   "name": "python3"
  },
  "language_info": {
   "codemirror_mode": {
    "name": "ipython",
    "version": 3
   },
   "file_extension": ".py",
   "mimetype": "text/x-python",
   "name": "python",
   "nbconvert_exporter": "python",
   "pygments_lexer": "ipython3",
   "version": "3.10.13"
  }
 },
 "nbformat": 4,
 "nbformat_minor": 5
}

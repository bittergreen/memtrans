{
 "cells": [
  {
   "cell_type": "code",
   "execution_count": null,
   "id": "bb9749d2-cdbc-4dce-aabf-6714055ee9c1",
   "metadata": {},
   "outputs": [],
   "source": [
    "import os\n",
    "import numpy as np\n",
    "import torch\n",
    "import torch.nn as nn\n",
    "from torch.utils.data import Dataset, DataLoader\n",
    "import datasets"
   ]
  },
  {
   "cell_type": "code",
   "execution_count": 6,
   "id": "5a62a1d5-f31e-45ed-8a5d-6a7040a6d125",
   "metadata": {},
   "outputs": [],
   "source": [
    "os.environ['HTTP_PROXY'] = \"http://127.0.0.1:7897\"\n",
    "os.environ['HTTPS_PROXY'] = \"http://127.0.0.1:7897\""
   ]
  },
  {
   "cell_type": "code",
   "execution_count": 7,
   "id": "dba3ddf7-3fb8-487a-b08e-a6288e14e0f3",
   "metadata": {},
   "outputs": [],
   "source": [
    "dataset = datasets.load_dataset(\"ccdv/arxiv-summarization\", split='train', streaming=True)\n",
    "raw_dataset = list(dataset.take(3500))"
   ]
  },
  {
   "cell_type": "code",
   "execution_count": 17,
   "id": "0ec607bf-96ea-405e-8954-33fce3ffdb29",
   "metadata": {},
   "outputs": [
    {
     "data": {
      "text/plain": [
       "5120"
      ]
     },
     "execution_count": 17,
     "metadata": {},
     "output_type": "execute_result"
    }
   ],
   "source": [
    "segments = 10\n",
    "segment_length = 512\n",
    "chunk_size = segments * segment_length\n",
    "chunk_size"
   ]
  },
  {
   "cell_type": "code",
   "execution_count": 19,
   "id": "eac22ead-e173-4374-94ed-c65ab0503afb",
   "metadata": {},
   "outputs": [
    {
     "ename": "TypeError",
     "evalue": "string indices must be integers",
     "output_type": "error",
     "traceback": [
      "\u001b[0;31m---------------------------------------------------------------------------\u001b[0m",
      "\u001b[0;31mTypeError\u001b[0m                                 Traceback (most recent call last)",
      "Cell \u001b[0;32mIn[19], line 1\u001b[0m\n\u001b[0;32m----> 1\u001b[0m raw_dataset \u001b[38;5;241m=\u001b[39m [x[\u001b[38;5;124m'\u001b[39m\u001b[38;5;124marticle\u001b[39m\u001b[38;5;124m'\u001b[39m] \u001b[38;5;28;01mfor\u001b[39;00m x \u001b[38;5;129;01min\u001b[39;00m raw_dataset]\n\u001b[1;32m      2\u001b[0m \u001b[38;5;66;03m# filtering out articles that's shorter than chunk_size\u001b[39;00m\n\u001b[1;32m      3\u001b[0m raw_dataset \u001b[38;5;241m=\u001b[39m [x \u001b[38;5;28;01mfor\u001b[39;00m x \u001b[38;5;129;01min\u001b[39;00m raw_dataset \u001b[38;5;28;01mif\u001b[39;00m \u001b[38;5;28mlen\u001b[39m(x) \u001b[38;5;241m>\u001b[39m chunk_size]\n",
      "Cell \u001b[0;32mIn[19], line 1\u001b[0m, in \u001b[0;36m<listcomp>\u001b[0;34m(.0)\u001b[0m\n\u001b[0;32m----> 1\u001b[0m raw_dataset \u001b[38;5;241m=\u001b[39m [\u001b[43mx\u001b[49m\u001b[43m[\u001b[49m\u001b[38;5;124;43m'\u001b[39;49m\u001b[38;5;124;43marticle\u001b[39;49m\u001b[38;5;124;43m'\u001b[39;49m\u001b[43m]\u001b[49m \u001b[38;5;28;01mfor\u001b[39;00m x \u001b[38;5;129;01min\u001b[39;00m raw_dataset]\n\u001b[1;32m      2\u001b[0m \u001b[38;5;66;03m# filtering out articles that's shorter than chunk_size\u001b[39;00m\n\u001b[1;32m      3\u001b[0m raw_dataset \u001b[38;5;241m=\u001b[39m [x \u001b[38;5;28;01mfor\u001b[39;00m x \u001b[38;5;129;01min\u001b[39;00m raw_dataset \u001b[38;5;28;01mif\u001b[39;00m \u001b[38;5;28mlen\u001b[39m(x) \u001b[38;5;241m>\u001b[39m chunk_size]\n",
      "\u001b[0;31mTypeError\u001b[0m: string indices must be integers"
     ]
    }
   ],
   "source": [
    "raw_dataset = [x['article'] for x in raw_dataset]"
   ]
  },
  {
   "cell_type": "code",
   "execution_count": 20,
   "id": "e037f01e-6c7c-4f30-bcc8-f16483f4c29b",
   "metadata": {},
   "outputs": [
    {
     "data": {
      "text/plain": [
       "3401"
      ]
     },
     "execution_count": 20,
     "metadata": {},
     "output_type": "execute_result"
    }
   ],
   "source": [
    "# filtering out articles that's shorter than chunk_size\n",
    "raw_dataset = [x for x in raw_dataset if len(x) > chunk_size]\n",
    "len(raw_dataset)"
   ]
  },
  {
   "cell_type": "code",
   "execution_count": 27,
   "id": "8060e4cb-b40b-48b1-9d7e-11d461685f88",
   "metadata": {},
   "outputs": [
    {
     "data": {
      "text/plain": [
       "['\\n',\n",
       " ' ',\n",
       " '!',\n",
       " '\"',\n",
       " '#',\n",
       " '$',\n",
       " '%',\n",
       " '&',\n",
       " \"'\",\n",
       " '(',\n",
       " ')',\n",
       " '*',\n",
       " '+',\n",
       " ',',\n",
       " '-',\n",
       " '.',\n",
       " '/',\n",
       " '0',\n",
       " '1',\n",
       " '2',\n",
       " '3',\n",
       " '4',\n",
       " '5',\n",
       " '6',\n",
       " '7',\n",
       " '8',\n",
       " '9',\n",
       " ':',\n",
       " ';',\n",
       " '<',\n",
       " '=',\n",
       " '>',\n",
       " '?',\n",
       " '@',\n",
       " '[',\n",
       " '\\\\',\n",
       " ']',\n",
       " '^',\n",
       " '_',\n",
       " '`',\n",
       " 'a',\n",
       " 'b',\n",
       " 'c',\n",
       " 'd',\n",
       " 'e',\n",
       " 'f',\n",
       " 'g',\n",
       " 'h',\n",
       " 'i',\n",
       " 'j',\n",
       " 'k',\n",
       " 'l',\n",
       " 'm',\n",
       " 'n',\n",
       " 'o',\n",
       " 'p',\n",
       " 'q',\n",
       " 'r',\n",
       " 's',\n",
       " 't',\n",
       " 'u',\n",
       " 'v',\n",
       " 'w',\n",
       " 'x',\n",
       " 'y',\n",
       " 'z',\n",
       " '{',\n",
       " '|',\n",
       " '}',\n",
       " '~']"
      ]
     },
     "execution_count": 27,
     "metadata": {},
     "output_type": "execute_result"
    }
   ],
   "source": [
    "# tokenizer\n",
    "all_text = \"\".join(raw_dataset)\n",
    "chars = sorted(list(set(all_text)))\n",
    "chars"
   ]
  },
  {
   "cell_type": "code",
   "execution_count": 28,
   "id": "d598b41b-e7f0-4c3d-8d14-fc58566c3b34",
   "metadata": {},
   "outputs": [],
   "source": [
    "stoi = {char: i for i, char in enumerate(chars)}\n",
    "itos = {i: char for i, char in enumerate(chars)}\n",
    "del all_text"
   ]
  },
  {
   "cell_type": "code",
   "execution_count": 40,
   "id": "ebbc82e5-dbb6-4460-8947-0f46f32072c2",
   "metadata": {},
   "outputs": [
    {
     "data": {
      "text/plain": [
       "'additive models @xcite provide an important family of models for semiparametric regression or classification . some reasons for the success of additive models are their increased flexibility when compared to linear or generalized linear models and their increased interpretability when compared to fully nonparametric models . \\n it is well - known that good estimators in additive models are in general less prone to the curse of high dimensionality than good estimators in fully nonparametric models . \\n many examples of such estimators belong to the large class of regularized kernel based methods over a reproducing kernel hilbert space @xmath0 , see e.g. @xcite . in the last years \\n many interesting results on learning rates of regularized kernel based models for additive models have been published when the focus is on sparsity and when the classical least squares loss function is used , see e.g. @xcite , @xcite , @xcite , @xcite , @xcite , @xcite and the references therein . of course , the least squares loss function is differentiable and has many nice mathematical properties , but it is only locally lipschitz continuous and therefore regularized kernel based methods based on this loss function typically suffer on bad statistical robustness properties , even if the kernel is bounded . \\n this is in sharp contrast to kernel methods based on a lipschitz continuous loss function and on a bounded loss function , where results on upper bounds for the maxbias bias and on a bounded influence function are known , see e.g. @xcite for the general case and @xcite for additive models . \\n therefore , we will here consider the case of regularized kernel based methods based on a general convex and lipschitz continuous loss function , on a general kernel , and on the classical regularizing term @xmath1 for some @xmath2 which is a smoothness penalty but not a sparsity penalty , see e.g. @xcite . \\n such regularized kernel based methods are now often called support vector machines ( svms ) , although the notation was historically used for such methods based on the special hinge loss function and for special kernels only , we refer to @xcite .    in this paper we address the open question , whether an svm with an additive kernel can provide a substantially better learning rate in high dimensions than an svm with a general kernel , say a classical gaussian rbf kernel , if the assumption of an additive model is satisfied . \\n our leading example covers learning rates for quantile regression based on the lipschitz continuous but non - differentiable pinball loss function , which is also called check function in the literature , see e.g. @xcite and @xcite for parametric quantile regression and @xcite , @xcite , and @xcite for kernel based quantile regression . \\n we will not address the question how to check whether the assumption of an additive model is satisfied because this would be a topic of a paper of its own . \\n of course , a practical approach might be to fit both models and compare their risks evaluated for test data . \\n for the same reason we will also not cover sparsity . \\n consistency of support vector machines generated by additive kernels for additive models was considered in @xcite . in this paper \\n we establish learning rates for these algorithms . \\n let us recall the framework with a complete separable metric space @xmath3 as the input space and a closed subset @xmath4 of @xmath5 as the output space . \\n a borel probability measure @xmath6 on @xmath7 is used to model the learning problem and an independent and identically distributed sample @xmath8 is drawn according to @xmath6 for learning . \\n a loss function @xmath9 is used to measure the quality of a prediction function @xmath10 by the local error @xmath11 . \\n _ throughout the paper we assume that @xmath12 is measurable , @xmath13 , convex with respect to the third variable , and uniformly lipschitz continuous satisfying @xmath14 with a finite constant @xmath15 . \\n _    support vector machines ( svms ) considered here are kernel - based regularization schemes in a reproducing kernel hilbert space ( rkhs ) @xmath0 generated by a mercer kernel @xmath16 . with a shifted loss function @xmath17 introduced for dealing \\n even with heavy - tailed distributions as @xmath18 , they take the form @xmath19 where for a general borel measure @xmath20 on @xmath21 , the function @xmath22 is defined by @xmath23 where @xmath24 is a regularization parameter . \\n the idea to shift a loss function has a long history , see e.g. @xcite in the context of m - estimators . \\n it was shown in @xcite that @xmath22 is also a minimizer of the following optimization problem involving the original loss function @xmath12 if a minimizer exists : @xmath25    the additive model we consider consists of the _ input space decomposition _ \\n @xmath26 with each @xmath27 a complete separable metric space and a _ hypothesis space _ \\n @xmath28 where @xmath29 is a set of functions @xmath30 each of which is also identified as a map @xmath31 from @xmath3 to @xmath5 . \\n hence the functions from @xmath32 take the additive form @xmath33 . \\n we mention , that there is strictly speaking a notational problem here , because in the previous formula each quantity @xmath34 is an element of the set @xmath35 which is a subset of the full input space @xmath36 , @xmath37 , whereas in the definition of sample @xmath8 each quantity @xmath38 is an element of the full input space @xmath36 , where @xmath39 . \\n because these notations will only be used in different places and because we do not expect any misunderstandings , we think this notation is easier and more intuitive than specifying these quantities with different symbols . \\n the additive kernel @xmath40 is defined in terms of mercer kernels @xmath41 on @xmath27 as @xmath42 it generates an rkhs @xmath0 which can be written in terms of the rkhs @xmath43 generated by @xmath41 on @xmath27 corresponding to the form ( [ additive ] ) as @xmath44 with norm given by @xmath45 the norm of @xmath46 satisfies @xmath47    to illustrate advantages of additive models , we provide two examples of comparing additive with product kernels . \\n the first example deals with gaussian rbf kernels . \\n all proofs will be given in section [ proofsection ] . \\n [ gaussadd ] let @xmath48 , @xmath49 $ ] and @xmath50 ^ 2.$ ] let @xmath51 and @xmath52.\\\\ ] ] the additive kernel @xmath53 is given by @xmath54 furthermore , the product kernel @xmath55 is the standard gaussian kernel given by @xmath56 define a gaussian function @xmath57 on @xmath58 ^ 2 $ ] depending only on one variable by @xmath59 then @xmath60 but @xmath61 where @xmath62 denotes the rkhs generated by the standard gaussian rbf kernel @xmath63 . \\n the second example is about sobolev kernels . \\n [ sobolvadd ] let @xmath64 , @xmath65 $ ] and @xmath58^s.$ ] let @xmath66 : = \\\\bigl\\\\{u\\\\in l_2([0,1 ] ) ; d^\\\\alpha u \\\\in l_2([0,1 ] ) \\\\mbox{~for~all~}|\\\\alpha|\\\\le 1\\\\bigr\\\\}\\\\ ] ] be the sobolev space consisting of all square integrable univariate functions whose derivative is also square integrable . \\n it is an rkhs with a mercer kernel @xmath67 defined on @xmath68 ^ 2 $ ] . \\n if we take all the mercer kernels @xmath69 to be @xmath67 , then @xmath70 $ ] for each @xmath71 . \\n the additive kernel @xmath72 is also a mercer kernel and defines an rkhs @xmath73\\\\right\\\\}.\\\\ ] ] however , the multivariate sobolev space @xmath74^s)$ ] , consisting of all square integrable functions whose partial derivatives are all square integrable , contains discontinuous functions and is not an rkhs . \\n denote the marginal distribution of @xmath6 on @xmath27 as @xmath75 . under the assumption that @xmath76 for each @xmath71 and that @xmath43 is dense in @xmath29 in the @xmath77-metric , it was proved in @xcite that @xmath78 in probability as long as @xmath79 satisfies @xmath80 and @xmath81 . \\n the rest of the paper has the following structure . \\n section [ ratessection ] contains our main results on learning rates for svms based on additive kernels . learning rates for quantile regression \\n are treated as important special cases . \\n section [ comparisonsection ] contains a comparison of our results with other learning rates published recently . \\n section [ proofsection ] contains all the proofs and some results which can be interesting in their own . \\n in this paper we provide some learning rates for the support vector machines generated by additive kernels for additive models which helps improve the quantitative understanding presented in @xcite . \\n the rates are about asymptotic behaviors of the excess risk @xmath82 and take the form @xmath83 with @xmath84 . \\n they will be stated under three kinds of conditions involving the hypothesis space @xmath0 , the measure @xmath6 , the loss @xmath12 , and the choice of the regularization parameter @xmath85 . \\n the first condition is about the approximation ability of the hypothesis space @xmath0 . \\n since the output function @xmath19 is from the hypothesis space , the learning rates of the learning algorithm depend on the approximation ability of the hypothesis space @xmath0 with respect to the optimal risk @xmath86 measured by the following approximation error . \\n [ defapprox ] the approximation error of the triple @xmath87 is defined as @xmath88    to estimate the approximation error , we make an assumption about the minimizer of the risk @xmath89    for each @xmath90 , define the integral operator @xmath91 associated with the kernel @xmath41 by @xmath92 we mention that @xmath93 is a compact and positive operator on @xmath94 . hence we can find its normalized eigenpairs @xmath95 such that @xmath96 is an orthonormal basis of @xmath94 and @xmath97 as @xmath98 . fix @xmath99 . \\n then we can define the @xmath100-th power @xmath101 of @xmath93 by @xmath102 this is a positive and bounded operator and its range is well - defined . \\n the assumption @xmath103 means @xmath104 lies in this range . \\n [ assumption1 ] we assume @xmath105 and @xmath106 where for some @xmath107 and each @xmath108 , @xmath109 is a function of the form @xmath110 with some @xmath111 . \\n the case @xmath112 of assumption [ assumption1 ] means each @xmath113 lies in the rkhs @xmath43 . \\n a standard condition in the literature ( e.g. , @xcite ) for achieving decays of the form @xmath114 for the approximation error ( [ approxerrordef ] ) is @xmath115 with some @xmath116 . here \\n the operator @xmath117 is defined by @xmath118 in general , this can not be written in an additive form . \\n however , the hypothesis space ( [ additive ] ) takes an additive form @xmath119 . \\n so it is natural for us to impose an additive expression @xmath120 for the target function @xmath121 with the component functions @xmath113 satisfying the power condition @xmath110 . \\n the above natural assumption leads to a technical difficulty in estimating the approximation error : the function @xmath113 has no direct connection to the marginal distribution @xmath122 projected onto @xmath27 , hence existing methods in the literature ( e.g. , @xcite ) can not be applied directly . \\n note that on the product space @xmath123 , there is no natural probability measure projected from @xmath6 , and the risk on @xmath124 is not defined .    our idea to overcome the difficulty is to introduce an intermediate function @xmath125 . \\n it may not minimize a risk ( which is not even defined ) . \\n however , it approximates the component function @xmath113 well . \\n when we add up such functions @xmath126 , we get a good approximation of the target function @xmath121 , and thereby a good estimate of the approximation error . \\n this is the first novelty of the paper . \\n [ approxerrorthm ] under assumption [ assumption1 ] , we have @xmath127 where @xmath128 is the constant given by @xmath129      the second condition for our learning rates is about the capacity of the hypothesis space measured by @xmath130-empirical covering numbers .    let @xmath131 be a set of functions on @xmath21 and @xmath132 for every @xmath133 the * covering number of @xmath131 * with respect to the empirical metric @xmath134 , given by @xmath135 is defined as @xmath136 and the * @xmath130-empirical covering number * of @xmath137 is defined as @xmath138    [ assumption2 ] we assume @xmath139 and that for some @xmath140 , @xmath141 and every @xmath142 , the @xmath130-empirical covering number of the unit ball of @xmath43 satisfies @xmath143    the second novelty of this paper is to observe that the additive nature of the hypothesis space yields the following nice bound with a dimension - independent power exponent for the covering numbers of the balls of the hypothesis space @xmath0 , to be proved in section [ samplesection ] . \\n [ capacitythm ] under assumption [ assumption2 ] , for any @xmath144 and @xmath145 , we have @xmath146    the bound for the covering numbers stated in theorem [ capacitythm ] is special : the power @xmath147 is independent of the number @xmath148 of the components in the additive model . \\n it is well - known @xcite in the literature of function spaces that the covering numbers of balls of the sobolev space @xmath149 on the cube @xmath150^s$ ] of the euclidean space @xmath151 with regularity index @xmath152 has the following asymptotic behavior with @xmath153 : @xmath154 here the power @xmath155 depends linearly on the dimension @xmath148 . \\n similar dimension - dependent bounds for the covering numbers of the rkhss associated with gaussian rbf - kernels can be found in @xcite . \\n the special bound in theorem [ capacitythm ] demonstrates an advantage of the additive model in terms of capacity of the additive hypothesis space . \\n the third condition for our learning rates is about the noise level in the measure @xmath6 with respect to the hypothesis space . before stating the general condition \\n , we consider a special case for quantile regression , to illustrate our general results . \\n let @xmath156 be a quantile parameter . \\n the quantile regression function @xmath157 is defined by its value @xmath158 to be a @xmath159-quantile of @xmath160 , i.e. , a value @xmath161 satisfying @xmath162 the regularization scheme for quantile regression considered here takes the form ( [ algor ] ) with the loss function @xmath12 given by the pinball loss as @xmath163    a noise condition on @xmath6 for quantile regression is defined in @xcite as follows . to this end , let @xmath164 be a probability measure on @xmath165 and @xmath166 . then a real number @xmath167 is called @xmath159-quantile of @xmath164 , if and only if @xmath167 belongs to the set @xmath168\\\\bigr ) \\\\ge \\n \\\\tau     \\\\mbox{~~and~~ } q\\\\bigl([t , \\\\infty)\\\\bigr ) \\\\ge 1-\\\\tau\\\\bigr\\\\}\\\\,.\\\\ ] ] it is well - known that @xmath169 is a compact interval . \\n [ noisecond ] let @xmath166 .    1 . \\n a probability measure @xmath164 on @xmath165 is said to have a * @xmath159-quantile of type @xmath170 * , if there exist a @xmath159-quantile @xmath171 and a constant @xmath172 such that , for all @xmath173 $ ] , we have @xmath174 2 . \\n let @xmath175 $ ] . \\n we say that a probability measure @xmath20 on @xmath176 has a * @xmath159-quantile of @xmath177-average type @xmath170 * if the conditional probability measure @xmath178 has @xmath179-almost surely a @xmath159-quantile of type @xmath170 and the function @xmath180 where @xmath181 is the constant defined in part ( 1 ) , satisfies @xmath182 . \\n one can show that a distribution @xmath164 having a @xmath159-quantile of type @xmath170 has a unique @xmath159-quantile @xmath183 . \\n moreover , if @xmath164 has a lebesgue density @xmath184 then @xmath164 has a @xmath159-quantile of type @xmath170 if @xmath184 is bounded away from zero on @xmath185 $ ] since we can use @xmath186\\\\}$ ] in ( [ tauquantileoftype2formula ] ) . \\n this assumption is general enough to cover many distributions used in parametric statistics such as gaussian , student s @xmath187 , and logistic distributions ( with @xmath188 ) , gamma and log - normal distributions ( with @xmath189 ) , and uniform and beta distributions ( with @xmath190 $ ] ) . \\n the following theorem , to be proved in section [ proofsection ] , gives a learning rate for the regularization scheme ( [ algor ] ) in the special case of quantile regression . \\n [ quantilethm ] suppose that @xmath191 almost surely for some constant @xmath192 , and that each kernel @xmath41 is @xmath193 with @xmath194 for some @xmath195 . \\n if assumption [ assumption1 ] holds with @xmath112 and @xmath6 has a @xmath159-quantile of @xmath177-average type @xmath170 for some @xmath196 $ ] , then by taking @xmath197 , for any @xmath198 and @xmath199 , with confidence at least @xmath200 we have @xmath201 where @xmath202 is a constant independent of @xmath203 and @xmath204 and @xmath205    please note that the exponent @xmath206 given by ( [ quantilerates2 ] ) for the learning rate in ( [ quantilerates ] ) is independent of the quantile level @xmath159 , of the number @xmath148 of additive components in @xmath207 , and of the dimensions @xmath208 and @xmath209 further note that @xmath210 , if @xmath211 , and @xmath212 if @xmath213 . because @xmath214 can be arbitrarily close to @xmath215 , the learning rate , which is independent of the dimension @xmath216 and given by theorem [ quantilethm ] , is close to @xmath217 for large values of @xmath177 and is close to @xmath218 or better , if @xmath211 .      to state our general learning rates \\n , we need an assumption on a _ variance - expectation bound _ which is similar to definition [ noisecond ] in the special case of quantile regression . \\n [ assumption3 ] we assume that there exist an exponent @xmath219 $ ] and a positive constant @xmath220 such that @xmath221    assumption [ assumption3 ] always holds true for @xmath222 . if the triple @xmath223 satisfies some conditions , the exponent @xmath224 can be larger . \\n for example , when @xmath12 is the pinball loss ( [ pinloss ] ) and @xmath6 has a @xmath159-quantile of @xmath177-average type @xmath225 for some @xmath196 $ ] and @xmath226 as defined in @xcite , then @xmath227 . \\n [ mainratesthm ] suppose that @xmath228 is bounded by a constant @xmath229 almost surely . under assumptions [ assumption1 ] to [ assumption3 ] , \\n if we take @xmath198 and @xmath230 for some @xmath231 , then for any @xmath232 , with confidence at least @xmath200 we have @xmath233 where @xmath234 is given by @xmath235 and @xmath202 is constant independent of @xmath203 or @xmath204 ( to be given explicitly in the proof ) . \\n we now add some theoretical and numerical comparisons on the goodness of our learning rates with those from the literature . as already mentioned in the introduction \\n , some reasons for the popularity of additive models are flexibility , increased interpretability , and ( often ) a reduced proneness of the curse of high dimensions . \\n hence it is important to check , whether the learning rate given in theorem [ mainratesthm ] under the assumption of an additive model favourably compares to ( essentially ) optimal learning rates without this assumption . in other words , \\n we need to demonstrate that the main goal of this paper is achieved by theorem [ quantilethm ] and theorem [ mainratesthm ] , i.e. that an svm based on an additive kernel can provide a substantially better learning rate in high dimensions than an svm with a general kernel , say a classical gaussian rbf kernel , provided the assumption of an additive model is satisfied . \\n our learning rate in theorem [ quantilethm ] is new and optimal in the literature of svm for quantile regression . \\n most learning rates in the literature of svm for quantile regression are given for projected output functions @xmath236 , while it is well known that projections improve learning rates @xcite . here the projection operator @xmath237 is defined for any measurable function @xmath10 by @xmath238 sometimes this is called clipping . \\n such results are given in @xcite . \\n for example , under the assumptions that @xmath6 has a @xmath159-quantile of @xmath177-average type @xmath170 , the approximation error condition ( [ approxerrorb ] ) is satisfied for some @xmath239 , and that for some constants @xmath240 , the sequence of eigenvalues @xmath241 of the integral operator @xmath117 satisfies @xmath242 for every @xmath243 , it was shown in @xcite that with confidence at least @xmath200 , @xmath244 where @xmath245 here the parameter @xmath246 measures the capacity of the rkhs @xmath247 and it plays a similar role as half of the parameter @xmath147 in assumption 2 . for a @xmath193 kernel and @xmath112 \\n , one can choose @xmath246 and @xmath147 to be arbitrarily small and the above power index @xmath248 can be taken as @xmath249 . \\n the learning rate in theorem [ quantilethm ] may be improved by relaxing assumption 1 to a sobolev smoothness condition for @xmath121 and a regularity condition for the marginal distribution @xmath250 . \\n for example , one may use a gaussian kernel @xmath251 depending on the sample size @xmath203 and @xcite achieve the approximation error condition ( [ approxerrorb ] ) for some @xmath252 . \\n this is done for quantile regression in @xcite . \\n since we are mainly interested in additive models , we shall not discuss such an extension . \\n [ gaussmore ] let @xmath48 , @xmath49 $ ] and @xmath50 ^ 2.$ ] let @xmath51 and the additive kernel @xmath72 be given by ( [ gaussaddform ] ) with @xmath253 in example [ gaussadd ] as @xmath52.\\\\ ] ] if the function @xmath121 is given by ( [ gaussfcn ] ) , @xmath191 almost surely for some constant @xmath192 , and @xmath6 has a @xmath159-quantile of @xmath177-average type @xmath170 for some @xmath196 $ ] , then by taking @xmath197 , for any @xmath145 and @xmath199 , ( [ quantilerates ] ) holds with confidence at least @xmath200 .    it is unknown whether the above learning rate can be derived by existing approaches in the literature ( e.g. @xcite ) even after projection . \\n note that the kernel in the above example is independent of the sample size . \\n it would be interesting to see whether there exists some @xmath99 such that the function @xmath57 defined by ( [ gaussfcn ] ) lies in the range of the operator @xmath254 . \\n the existence of such a positive index would lead to the approximation error condition ( [ approxerrorb ] ) , see @xcite .    let us now add some numerical comparisons on the goodness of our learning rates given by theorem [ mainratesthm ] with those given by @xcite . \\n their corollary 4.12 gives ( essentially ) minmax optimal learning rates for ( clipped ) svms in the context of nonparametric quantile regression using one gaussian rbf kernel on the whole input space under appropriate smoothness assumptions of the target function . \\n let us consider the case that the distribution @xmath6 has a @xmath159-quantile of @xmath177-average type @xmath170 , where @xmath255 , and assume that both corollary 4.12 in @xcite and our theorem [ mainratesthm ] are applicable . \\n i.e. , we assume in particular that @xmath6 is a probability measure on @xmath256 $ ] and that the marginal distribution @xmath257 has a lebesgue density @xmath258 for some @xmath259 . furthermore , suppose that the optimal decision function @xmath260 has ( to make theorem [ mainratesthm ] applicable with @xmath261 $ ] ) the additive structure @xmath207 with each @xmath104 as stated in assumption [ assumption1 ] , where @xmath262 and @xmath263 , with minimal risk @xmath86 and additionally fulfills ( to make corollary 4.12 in @xcite applicable ) @xmath264 where @xmath265 $ ] and @xmath266 denotes a besov space with smoothness parameter @xmath267 . \\n the intuitive meaning of @xmath248 is , that increasing values of @xmath248 correspond to increased smoothness . \\n we refer to ( * ? ? ? * and p. 44 ) for details on besov spaces . \\n it is well - known that the besov space @xmath268 contains the sobolev space @xmath269 for @xmath270 , @xmath271 , and @xmath272 , and that @xmath273 . \\n we mention that if all @xmath41 are suitably chosen wendland kernels , their reproducing kernel hilbert spaces @xmath43 are sobolev spaces , see ( * ? ? ? \\n * thm . 10.35 , p. 160 ) . \\n furthermore , we use the same sequence of regularizing parameters as in ( * ? ? ? \\n 4.9 , cor . 4.12 ) , i.e. , @xmath274 where @xmath275 , @xmath276 , @xmath277 $ ] , and @xmath278 is some user - defined positive constant independent of @xmath279 . for \\n reasons of simplicity , let us fix @xmath280 . \\n then ( * ? ? ? \\n 4.12 ) gives learning rates for the risk of svms for @xmath159-quantile regression , if a single gaussian rbf - kernel on @xmath281 is used for @xmath159-quantile functions of @xmath177-average type @xmath170 with @xmath255 , which are of order @xmath282 hence the learning rate in theorem [ quantilethm ] is better than the one in ( * ? ? ? \\n 4.12 ) in this situation , if @xmath283 provided the assumption of the additive model is valid . \\n table [ table1 ] lists the values of @xmath284 from ( [ explicitratescz2 ] ) for some finite values of the dimension @xmath216 , where @xmath285 . \\n all of these values of @xmath284 are positive with the exceptions if @xmath286 or @xmath287 . \\n this is in contrast to the corresponding exponent in the learning rate by ( * ? ? \\n * cor . 4.12 ) , because @xmath288    table [ table2 ] and figures [ figure1 ] to [ figure2 ] give additional information on the limit @xmath289 . \\n of course , higher values of the exponent indicates faster rates of convergence . \\n it is obvious , that an svm based on an additive kernel has a significantly faster rate of convergence in higher dimensions @xmath216 compared to svm based on a single gaussian rbf kernel defined on the whole input space , of course under the assumption that the additive model is valid . \\n the figures seem to indicate that our learning rate from theorem [ mainratesthm ] is probably not optimal for small dimensions . however , the main focus of the present paper is on high dimensions . \\n .[table1 ] the table lists the limits of the exponents @xmath290 from ( * ? ? ? \\n * cor . 4.12 ) and @xmath291 from theorem [ mainratesthm ] , respectively , if the regularizing parameter @xmath292 is chosen in an optimal manner for the nonparametric setup , i.e. @xmath293 , with @xmath294 for @xmath295 and @xmath296 . \\n recall that @xmath297 $ ] . \\n [ cols= \" > , > , > , > \" , ]'"
      ]
     },
     "execution_count": 40,
     "metadata": {},
     "output_type": "execute_result"
    }
   ],
   "source": [
    "raw_dataset[0]"
   ]
  },
  {
   "cell_type": "code",
   "execution_count": 41,
   "id": "0f0357f9-516f-4004-a42f-d0200a6e07ac",
   "metadata": {},
   "outputs": [
    {
     "name": "stderr",
     "output_type": "stream",
     "text": [
      "/var/folders/kv/k9p5p17d18dccf8zjx9mr1fw0000gn/T/ipykernel_81821/1439830721.py:1: DeprecationWarning: The binary mode of fromstring is deprecated, as it behaves surprisingly on unicode inputs. Use frombuffer instead\n",
      "  encoded = [np.fromstring(doc, dtype='uint8') for doc in raw_dataset]\n"
     ]
    }
   ],
   "source": [
    "encoded = [np.fromstring(doc, dtype='uint8') for doc in raw_dataset]"
   ]
  },
  {
   "cell_type": "code",
   "execution_count": 42,
   "id": "e514daa7-ecb6-4132-a5ce-9c090e046494",
   "metadata": {},
   "outputs": [
    {
     "data": {
      "text/plain": [
       "array([ 97, 100, 100, ...,  44,  32,  93], dtype=uint8)"
      ]
     },
     "execution_count": 42,
     "metadata": {},
     "output_type": "execute_result"
    }
   ],
   "source": [
    "encoded[0]"
   ]
  },
  {
   "cell_type": "code",
   "execution_count": 46,
   "id": "996321d5-e672-44d6-b922-fed09a744109",
   "metadata": {},
   "outputs": [],
   "source": [
    "all_encoded = np.concatenate(encoded)\n",
    "c_chars = set(all_encoded)"
   ]
  },
  {
   "cell_type": "code",
   "execution_count": 98,
   "id": "3e6f4c92-5339-4272-ad1f-5d937f72e345",
   "metadata": {},
   "outputs": [
    {
     "data": {
      "text/plain": [
       "70"
      ]
     },
     "execution_count": 98,
     "metadata": {},
     "output_type": "execute_result"
    }
   ],
   "source": [
    "len(c_chars)"
   ]
  },
  {
   "cell_type": "code",
   "execution_count": 49,
   "id": "78d18a18-bc76-4268-8e2a-7236f8700f60",
   "metadata": {},
   "outputs": [],
   "source": [
    "def clip_article(doc, chunk_size):\n",
    "    remainder = len(doc) % chunk_size\n",
    "    return doc[:-remainder]\n",
    "\n",
    "clipped = [clip_article(doc, chunk_size) for doc in encoded]"
   ]
  },
  {
   "cell_type": "code",
   "execution_count": 55,
   "id": "a0c27e1f-ac23-459f-99ff-46b6b9d8a765",
   "metadata": {},
   "outputs": [
    {
     "data": {
      "text/plain": [
       "(5, 5120)"
      ]
     },
     "execution_count": 55,
     "metadata": {},
     "output_type": "execute_result"
    }
   ],
   "source": [
    "clipped[0].reshape(-1, chunk_size).shape"
   ]
  },
  {
   "cell_type": "code",
   "execution_count": 60,
   "id": "346dcc6e-f812-491b-b9df-08f81ab1bf28",
   "metadata": {},
   "outputs": [],
   "source": [
    "clipped = [doc.reshape(-1, chunk_size) for doc in clipped]"
   ]
  },
  {
   "cell_type": "code",
   "execution_count": 58,
   "id": "0f980b11-ef7a-4a12-9bd6-4cf3a45e780b",
   "metadata": {},
   "outputs": [
    {
     "data": {
      "text/plain": [
       "(3, 5120)"
      ]
     },
     "execution_count": 58,
     "metadata": {},
     "output_type": "execute_result"
    }
   ],
   "source": [
    "clipped[1].shape"
   ]
  },
  {
   "cell_type": "code",
   "execution_count": 71,
   "id": "6a3f6e82-65b8-41e2-b25c-357ed82e6c31",
   "metadata": {},
   "outputs": [
    {
     "data": {
      "text/plain": [
       "torch.Size([20853, 5120])"
      ]
     },
     "execution_count": 71,
     "metadata": {},
     "output_type": "execute_result"
    }
   ],
   "source": [
    "processed_data = torch.tensor(np.concatenate(clipped), dtype=torch.long)\n",
    "processed_data.shape"
   ]
  },
  {
   "cell_type": "code",
   "execution_count": 77,
   "id": "a4f944a3-c542-4c5d-872f-32acbecf97b5",
   "metadata": {},
   "outputs": [],
   "source": [
    "data_length = processed_data.shape[0]\n",
    "eighty_split = int(data_length * 0.8)\n",
    "ninety_split = int(data_length * 0.9)"
   ]
  },
  {
   "cell_type": "code",
   "execution_count": 83,
   "id": "83eb4ecd-b095-48cc-8b5d-1f01e1d34988",
   "metadata": {},
   "outputs": [],
   "source": [
    "train_loader = iter(DataLoader(processed_data[:eighty_split], batch_size=8, shuffle=True))\n",
    "test_loader = iter(DataLoader(processed_data[eighty_split:ninety_split], batch_size=8, shuffle=True))\n",
    "val_loader = iter(DataLoader(processed_data[ninety_split:], batch_size=8, shuffle=True))"
   ]
  },
  {
   "cell_type": "code",
   "execution_count": 85,
   "id": "a09feebb-bad2-4f3b-b4f4-be0ef8ffffae",
   "metadata": {},
   "outputs": [],
   "source": [
    "example = next(val_loader)"
   ]
  },
  {
   "cell_type": "code",
   "execution_count": 87,
   "id": "88023cb3-9aac-43bc-a90a-5f883709cec6",
   "metadata": {},
   "outputs": [
    {
     "data": {
      "text/plain": [
       "torch.Size([8, 5120])"
      ]
     },
     "execution_count": 87,
     "metadata": {},
     "output_type": "execute_result"
    }
   ],
   "source": [
    "example.shape"
   ]
  },
  {
   "cell_type": "code",
   "execution_count": 88,
   "id": "0398b8fd-64d3-4253-8e3c-2156b2d09aa2",
   "metadata": {},
   "outputs": [],
   "source": [
    "seq, labels = example[:, :-1], example[:, 1:]"
   ]
  },
  {
   "cell_type": "code",
   "execution_count": 89,
   "id": "708b620a-eb50-4c55-bfa9-55036d8c1ecd",
   "metadata": {},
   "outputs": [
    {
     "data": {
      "text/plain": [
       "tensor([[ 32, 118, 101,  ...,  32, 105, 110],\n",
       "        [ 97, 115,  32,  ...,  97, 110,  32],\n",
       "        [ 10,  32, 112,  ...,  32, 112, 108],\n",
       "        ...,\n",
       "        [116,  32, 111,  ..., 104,  32, 105],\n",
       "        [ 32, 116, 114,  ..., 111, 110,  32],\n",
       "        [108, 101, 102,  ...,  43,  32, 104]])"
      ]
     },
     "execution_count": 89,
     "metadata": {},
     "output_type": "execute_result"
    }
   ],
   "source": [
    "seq"
   ]
  },
  {
   "cell_type": "code",
   "execution_count": 90,
   "id": "86089b0f-d340-405f-bf56-0089e48644ab",
   "metadata": {},
   "outputs": [
    {
     "data": {
      "text/plain": [
       "tensor([[118, 101,  99,  ..., 105, 110,  32],\n",
       "        [115,  32, 105,  ..., 110,  32,  99],\n",
       "        [ 32, 112, 102,  ..., 112, 108,  97],\n",
       "        ...,\n",
       "        [ 32, 111, 102,  ...,  32, 105, 110],\n",
       "        [116, 114,  97,  ..., 110,  32, 111],\n",
       "        [101, 102, 116,  ...,  32, 104,  97]])"
      ]
     },
     "execution_count": 90,
     "metadata": {},
     "output_type": "execute_result"
    }
   ],
   "source": [
    "labels"
   ]
  },
  {
   "cell_type": "code",
   "execution_count": 92,
   "id": "e484e33a-9d4b-4f46-a5b1-63c29615c718",
   "metadata": {},
   "outputs": [
    {
     "data": {
      "text/plain": [
       "True"
      ]
     },
     "execution_count": 92,
     "metadata": {},
     "output_type": "execute_result"
    }
   ],
   "source": [
    "seq.shape == labels.shape"
   ]
  },
  {
   "cell_type": "code",
   "execution_count": 97,
   "id": "31951593-5fc8-4afa-982c-0eef15174517",
   "metadata": {},
   "outputs": [
    {
     "data": {
      "text/plain": [
       "torch.Size([8, 512])"
      ]
     },
     "execution_count": 97,
     "metadata": {},
     "output_type": "execute_result"
    }
   ],
   "source": [
    "# returns tuple of chunks\n",
    "seq.chunk(10, dim=-1)[0].shape"
   ]
  },
  {
   "cell_type": "code",
   "execution_count": 100,
   "id": "5aaae2a1-8d86-472f-b49e-50c0927a8e2e",
   "metadata": {},
   "outputs": [
    {
     "data": {
      "text/plain": [
       "Sequential(\n",
       "  (0): Embedding(70, 16)\n",
       "  (1): Linear(in_features=16, out_features=150, bias=True)\n",
       "  (2): ReLU()\n",
       "  (3): Linear(in_features=150, out_features=128, bias=True)\n",
       "  (4): ReLU()\n",
       ")"
      ]
     },
     "execution_count": 100,
     "metadata": {},
     "output_type": "execute_result"
    }
   ],
   "source": [
    "model = nn.Sequential(\n",
    "    nn.Embedding(70, 16), # vocab_size, embedding_dim\n",
    "    nn.Linear(16, 150),\n",
    "    nn.ReLU(),\n",
    "    nn.Linear(150, 128),\n",
    "    nn.ReLU()\n",
    ")\n",
    "\n",
    "loss_fn = nn.CrossEntropyLoss()\n",
    "optimizer = torch.optim.SGD(model.parameters(), lr=0.05)\n",
    "model.train()  # changing the model to training mode"
   ]
  },
  {
   "cell_type": "code",
   "execution_count": null,
   "id": "108b143a-f351-4611-bb45-f7459479c4ff",
   "metadata": {},
   "outputs": [],
   "source": [
    "max_iters = 300\n",
    "\n",
    "for i in range(max_iters):\n",
    "    data = next(train_loader)"
   ]
  }
 ],
 "metadata": {
  "kernelspec": {
   "display_name": "Python 3 (ipykernel)",
   "language": "python",
   "name": "python3"
  },
  "language_info": {
   "codemirror_mode": {
    "name": "ipython",
    "version": 3
   },
   "file_extension": ".py",
   "mimetype": "text/x-python",
   "name": "python",
   "nbconvert_exporter": "python",
   "pygments_lexer": "ipython3",
   "version": "3.10.14"
  }
 },
 "nbformat": 4,
 "nbformat_minor": 5
}

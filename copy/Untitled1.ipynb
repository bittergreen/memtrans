{
 "cells": [
  {
   "cell_type": "code",
   "execution_count": 1,
   "id": "2488ecd8-a5da-41bc-8dfd-4f015a3defa1",
   "metadata": {},
   "outputs": [],
   "source": [
    "import torch\n",
    "import torch.nn as nn\n",
    "import torch.nn.functional as F"
   ]
  },
  {
   "cell_type": "code",
   "execution_count": 3,
   "id": "ea6d8de5-5ace-4082-b9f1-3a70f00201df",
   "metadata": {},
   "outputs": [],
   "source": [
    "# hyperparameters\n",
    "sequence_length = 512\n",
    "embedding_dim = 300\n",
    "head_dim = 32\n",
    "num_head = 8\n",
    "batch_size = 16\n",
    "scaling_factor = head_dim ** -0.5"
   ]
  },
  {
   "cell_type": "code",
   "execution_count": 4,
   "id": "d00776e3-653a-4926-be7d-06c27b6dda39",
   "metadata": {},
   "outputs": [
    {
     "data": {
      "text/plain": [
       "torch.Size([16, 512, 300])"
      ]
     },
     "execution_count": 4,
     "metadata": {},
     "output_type": "execute_result"
    }
   ],
   "source": [
    "input_data = torch.randn((batch_size, sequence_length, embedding_dim))  # (B, T, C)\n",
    "input_data.shape"
   ]
  },
  {
   "cell_type": "code",
   "execution_count": 6,
   "id": "9b60a63e-7a34-4ab2-8c40-ab7b43b5568f",
   "metadata": {},
   "outputs": [
    {
     "data": {
      "text/plain": [
       "Linear(in_features=300, out_features=256, bias=True)"
      ]
     },
     "execution_count": 6,
     "metadata": {},
     "output_type": "execute_result"
    }
   ],
   "source": [
    "# qkv\n",
    "query = nn.Linear(embedding_dim, head_dim * num_head)\n",
    "key = nn.Linear(embedding_dim, head_dim * num_head)\n",
    "value = nn.Linear(embedding_dim, head_dim * num_head)\n",
    "query"
   ]
  },
  {
   "cell_type": "code",
   "execution_count": 11,
   "id": "27a5b25f-f468-4526-9b5a-6f096d1b143d",
   "metadata": {},
   "outputs": [
    {
     "data": {
      "text/plain": [
       "torch.Size([16, 512, 256])"
      ]
     },
     "execution_count": 11,
     "metadata": {},
     "output_type": "execute_result"
    }
   ],
   "source": [
    "q = query(input_data)\n",
    "k = key(input_data)\n",
    "v = value(input_data)\n",
    "q.shape"
   ]
  },
  {
   "cell_type": "code",
   "execution_count": 10,
   "id": "a53064bf-19b3-405a-b4d0-fedb13171c17",
   "metadata": {},
   "outputs": [
    {
     "data": {
      "text/plain": [
       "torch.Size([16, 512, 512])"
      ]
     },
     "execution_count": 10,
     "metadata": {},
     "output_type": "execute_result"
    }
   ],
   "source": [
    "logits = q @ k.transpose(-2, -1)\n",
    "logits.shape"
   ]
  },
  {
   "cell_type": "code",
   "execution_count": 12,
   "id": "d10bb72f-9624-454d-9223-6824a1caa905",
   "metadata": {},
   "outputs": [
    {
     "data": {
      "text/plain": [
       "torch.Size([16, 512, 256])"
      ]
     },
     "execution_count": 12,
     "metadata": {},
     "output_type": "execute_result"
    }
   ],
   "source": [
    "logits = logits @ v\n",
    "logits.shape"
   ]
  },
  {
   "cell_type": "code",
   "execution_count": null,
   "id": "9d35d2bf-6e86-4842-9eac-e0af176d540f",
   "metadata": {},
   "outputs": [],
   "source": []
  }
 ],
 "metadata": {
  "kernelspec": {
   "display_name": "Python 3 (ipykernel)",
   "language": "python",
   "name": "python3"
  },
  "language_info": {
   "codemirror_mode": {
    "name": "ipython",
    "version": 3
   },
   "file_extension": ".py",
   "mimetype": "text/x-python",
   "name": "python",
   "nbconvert_exporter": "python",
   "pygments_lexer": "ipython3",
   "version": "3.10.14"
  }
 },
 "nbformat": 4,
 "nbformat_minor": 5
}
